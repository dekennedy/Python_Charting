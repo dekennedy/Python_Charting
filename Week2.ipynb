{
 "cells": [
  {
   "cell_type": "markdown",
   "metadata": {},
   "source": [
    "# Basic Plotting with matplotlib"
   ]
  },
  {
   "cell_type": "markdown",
   "metadata": {},
   "source": [
    "You can show matplotlib figures directly in the notebook by using the `%matplotlib notebook` and `%matplotlib inline` magic commands. \n",
    "\n",
    "`%matplotlib notebook` provides an interactive environment."
   ]
  },
  {
   "cell_type": "code",
   "execution_count": 1,
   "metadata": {
    "collapsed": false
   },
   "outputs": [],
   "source": [
    "%matplotlib notebook"
   ]
  },
  {
   "cell_type": "code",
   "execution_count": 2,
   "metadata": {
    "collapsed": false
   },
   "outputs": [
    {
     "data": {
      "text/plain": [
       "'nbAgg'"
      ]
     },
     "execution_count": 2,
     "metadata": {},
     "output_type": "execute_result"
    }
   ],
   "source": [
    "import matplotlib as mpl\n",
    "mpl.get_backend()"
   ]
  },
  {
   "cell_type": "code",
   "execution_count": 6,
   "metadata": {
    "collapsed": false
   },
   "outputs": [],
   "source": [
    "import matplotlib.pyplot as plt\n",
    "plt.plot?"
   ]
  },
  {
   "cell_type": "code",
   "execution_count": 9,
   "metadata": {
    "collapsed": false
   },
   "outputs": [
    {
     "data": {
      "text/plain": [
       "[<matplotlib.lines.Line2D at 0x7f688c06e160>]"
      ]
     },
     "execution_count": 9,
     "metadata": {},
     "output_type": "execute_result"
    }
   ],
   "source": [
    "# because the default is the line style '-', \n",
    "# nothing will be shown if we only pass in one point (3,2)\n",
    "plt.plot(3, 2)"
   ]
  },
  {
   "cell_type": "code",
   "execution_count": 10,
   "metadata": {
    "collapsed": false
   },
   "outputs": [
    {
     "data": {
      "application/javascript": "/* Put everything inside the global mpl namespace */\nwindow.mpl = {};\n\n\nmpl.get_websocket_type = function() {\n    if (typeof(WebSocket) !== 'undefined') {\n        return WebSocket;\n    } else if (typeof(MozWebSocket) !== 'undefined') {\n        return MozWebSocket;\n    } else {\n        alert('Your browser does not have WebSocket support.' +\n              'Please try Chrome, Safari or Firefox ≥ 6. ' +\n              'Firefox 4 and 5 are also supported but you ' +\n              'have to enable WebSockets in about:config.');\n    };\n}\n\nmpl.figure = function(figure_id, websocket, ondownload, parent_element) {\n    this.id = figure_id;\n\n    this.ws = websocket;\n\n    this.supports_binary = (this.ws.binaryType != undefined);\n\n    if (!this.supports_binary) {\n        var warnings = document.getElementById(\"mpl-warnings\");\n        if (warnings) {\n            warnings.style.display = 'block';\n            warnings.textContent = (\n                \"This browser does not support binary websocket messages. \" +\n                    \"Performance may be slow.\");\n        }\n    }\n\n    this.imageObj = new Image();\n\n    this.context = undefined;\n    this.message = undefined;\n    this.canvas = undefined;\n    this.rubberband_canvas = undefined;\n    this.rubberband_context = undefined;\n    this.format_dropdown = undefined;\n\n    this.image_mode = 'full';\n\n    this.root = $('<div/>');\n    this._root_extra_style(this.root)\n    this.root.attr('style', 'display: inline-block');\n\n    $(parent_element).append(this.root);\n\n    this._init_header(this);\n    this._init_canvas(this);\n    this._init_toolbar(this);\n\n    var fig = this;\n\n    this.waiting = false;\n\n    this.ws.onopen =  function () {\n            fig.send_message(\"supports_binary\", {value: fig.supports_binary});\n            fig.send_message(\"send_image_mode\", {});\n            if (mpl.ratio != 1) {\n                fig.send_message(\"set_dpi_ratio\", {'dpi_ratio': mpl.ratio});\n            }\n            fig.send_message(\"refresh\", {});\n        }\n\n    this.imageObj.onload = function() {\n            if (fig.image_mode == 'full') {\n                // Full images could contain transparency (where diff images\n                // almost always do), so we need to clear the canvas so that\n                // there is no ghosting.\n                fig.context.clearRect(0, 0, fig.canvas.width, fig.canvas.height);\n            }\n            fig.context.drawImage(fig.imageObj, 0, 0);\n        };\n\n    this.imageObj.onunload = function() {\n        this.ws.close();\n    }\n\n    this.ws.onmessage = this._make_on_message_function(this);\n\n    this.ondownload = ondownload;\n}\n\nmpl.figure.prototype._init_header = function() {\n    var titlebar = $(\n        '<div class=\"ui-dialog-titlebar ui-widget-header ui-corner-all ' +\n        'ui-helper-clearfix\"/>');\n    var titletext = $(\n        '<div class=\"ui-dialog-title\" style=\"width: 100%; ' +\n        'text-align: center; padding: 3px;\"/>');\n    titlebar.append(titletext)\n    this.root.append(titlebar);\n    this.header = titletext[0];\n}\n\n\n\nmpl.figure.prototype._canvas_extra_style = function(canvas_div) {\n\n}\n\n\nmpl.figure.prototype._root_extra_style = function(canvas_div) {\n\n}\n\nmpl.figure.prototype._init_canvas = function() {\n    var fig = this;\n\n    var canvas_div = $('<div/>');\n\n    canvas_div.attr('style', 'position: relative; clear: both; outline: 0');\n\n    function canvas_keyboard_event(event) {\n        return fig.key_event(event, event['data']);\n    }\n\n    canvas_div.keydown('key_press', canvas_keyboard_event);\n    canvas_div.keyup('key_release', canvas_keyboard_event);\n    this.canvas_div = canvas_div\n    this._canvas_extra_style(canvas_div)\n    this.root.append(canvas_div);\n\n    var canvas = $('<canvas/>');\n    canvas.addClass('mpl-canvas');\n    canvas.attr('style', \"left: 0; top: 0; z-index: 0; outline: 0\")\n\n    this.canvas = canvas[0];\n    this.context = canvas[0].getContext(\"2d\");\n\n    var backingStore = this.context.backingStorePixelRatio ||\n\tthis.context.webkitBackingStorePixelRatio ||\n\tthis.context.mozBackingStorePixelRatio ||\n\tthis.context.msBackingStorePixelRatio ||\n\tthis.context.oBackingStorePixelRatio ||\n\tthis.context.backingStorePixelRatio || 1;\n\n    mpl.ratio = (window.devicePixelRatio || 1) / backingStore;\n\n    var rubberband = $('<canvas/>');\n    rubberband.attr('style', \"position: absolute; left: 0; top: 0; z-index: 1;\")\n\n    var pass_mouse_events = true;\n\n    canvas_div.resizable({\n        start: function(event, ui) {\n            pass_mouse_events = false;\n        },\n        resize: function(event, ui) {\n            fig.request_resize(ui.size.width, ui.size.height);\n        },\n        stop: function(event, ui) {\n            pass_mouse_events = true;\n            fig.request_resize(ui.size.width, ui.size.height);\n        },\n    });\n\n    function mouse_event_fn(event) {\n        if (pass_mouse_events)\n            return fig.mouse_event(event, event['data']);\n    }\n\n    rubberband.mousedown('button_press', mouse_event_fn);\n    rubberband.mouseup('button_release', mouse_event_fn);\n    // Throttle sequential mouse events to 1 every 20ms.\n    rubberband.mousemove('motion_notify', mouse_event_fn);\n\n    rubberband.mouseenter('figure_enter', mouse_event_fn);\n    rubberband.mouseleave('figure_leave', mouse_event_fn);\n\n    canvas_div.on(\"wheel\", function (event) {\n        event = event.originalEvent;\n        event['data'] = 'scroll'\n        if (event.deltaY < 0) {\n            event.step = 1;\n        } else {\n            event.step = -1;\n        }\n        mouse_event_fn(event);\n    });\n\n    canvas_div.append(canvas);\n    canvas_div.append(rubberband);\n\n    this.rubberband = rubberband;\n    this.rubberband_canvas = rubberband[0];\n    this.rubberband_context = rubberband[0].getContext(\"2d\");\n    this.rubberband_context.strokeStyle = \"#000000\";\n\n    this._resize_canvas = function(width, height) {\n        // Keep the size of the canvas, canvas container, and rubber band\n        // canvas in synch.\n        canvas_div.css('width', width)\n        canvas_div.css('height', height)\n\n        canvas.attr('width', width * mpl.ratio);\n        canvas.attr('height', height * mpl.ratio);\n        canvas.attr('style', 'width: ' + width + 'px; height: ' + height + 'px;');\n\n        rubberband.attr('width', width);\n        rubberband.attr('height', height);\n    }\n\n    // Set the figure to an initial 600x600px, this will subsequently be updated\n    // upon first draw.\n    this._resize_canvas(600, 600);\n\n    // Disable right mouse context menu.\n    $(this.rubberband_canvas).bind(\"contextmenu\",function(e){\n        return false;\n    });\n\n    function set_focus () {\n        canvas.focus();\n        canvas_div.focus();\n    }\n\n    window.setTimeout(set_focus, 100);\n}\n\nmpl.figure.prototype._init_toolbar = function() {\n    var fig = this;\n\n    var nav_element = $('<div/>')\n    nav_element.attr('style', 'width: 100%');\n    this.root.append(nav_element);\n\n    // Define a callback function for later on.\n    function toolbar_event(event) {\n        return fig.toolbar_button_onclick(event['data']);\n    }\n    function toolbar_mouse_event(event) {\n        return fig.toolbar_button_onmouseover(event['data']);\n    }\n\n    for(var toolbar_ind in mpl.toolbar_items) {\n        var name = mpl.toolbar_items[toolbar_ind][0];\n        var tooltip = mpl.toolbar_items[toolbar_ind][1];\n        var image = mpl.toolbar_items[toolbar_ind][2];\n        var method_name = mpl.toolbar_items[toolbar_ind][3];\n\n        if (!name) {\n            // put a spacer in here.\n            continue;\n        }\n        var button = $('<button/>');\n        button.addClass('ui-button ui-widget ui-state-default ui-corner-all ' +\n                        'ui-button-icon-only');\n        button.attr('role', 'button');\n        button.attr('aria-disabled', 'false');\n        button.click(method_name, toolbar_event);\n        button.mouseover(tooltip, toolbar_mouse_event);\n\n        var icon_img = $('<span/>');\n        icon_img.addClass('ui-button-icon-primary ui-icon');\n        icon_img.addClass(image);\n        icon_img.addClass('ui-corner-all');\n\n        var tooltip_span = $('<span/>');\n        tooltip_span.addClass('ui-button-text');\n        tooltip_span.html(tooltip);\n\n        button.append(icon_img);\n        button.append(tooltip_span);\n\n        nav_element.append(button);\n    }\n\n    var fmt_picker_span = $('<span/>');\n\n    var fmt_picker = $('<select/>');\n    fmt_picker.addClass('mpl-toolbar-option ui-widget ui-widget-content');\n    fmt_picker_span.append(fmt_picker);\n    nav_element.append(fmt_picker_span);\n    this.format_dropdown = fmt_picker[0];\n\n    for (var ind in mpl.extensions) {\n        var fmt = mpl.extensions[ind];\n        var option = $(\n            '<option/>', {selected: fmt === mpl.default_extension}).html(fmt);\n        fmt_picker.append(option)\n    }\n\n    // Add hover states to the ui-buttons\n    $( \".ui-button\" ).hover(\n        function() { $(this).addClass(\"ui-state-hover\");},\n        function() { $(this).removeClass(\"ui-state-hover\");}\n    );\n\n    var status_bar = $('<span class=\"mpl-message\"/>');\n    nav_element.append(status_bar);\n    this.message = status_bar[0];\n}\n\nmpl.figure.prototype.request_resize = function(x_pixels, y_pixels) {\n    // Request matplotlib to resize the figure. Matplotlib will then trigger a resize in the client,\n    // which will in turn request a refresh of the image.\n    this.send_message('resize', {'width': x_pixels, 'height': y_pixels});\n}\n\nmpl.figure.prototype.send_message = function(type, properties) {\n    properties['type'] = type;\n    properties['figure_id'] = this.id;\n    this.ws.send(JSON.stringify(properties));\n}\n\nmpl.figure.prototype.send_draw_message = function() {\n    if (!this.waiting) {\n        this.waiting = true;\n        this.ws.send(JSON.stringify({type: \"draw\", figure_id: this.id}));\n    }\n}\n\n\nmpl.figure.prototype.handle_save = function(fig, msg) {\n    var format_dropdown = fig.format_dropdown;\n    var format = format_dropdown.options[format_dropdown.selectedIndex].value;\n    fig.ondownload(fig, format);\n}\n\n\nmpl.figure.prototype.handle_resize = function(fig, msg) {\n    var size = msg['size'];\n    if (size[0] != fig.canvas.width || size[1] != fig.canvas.height) {\n        fig._resize_canvas(size[0], size[1]);\n        fig.send_message(\"refresh\", {});\n    };\n}\n\nmpl.figure.prototype.handle_rubberband = function(fig, msg) {\n    var x0 = msg['x0'] / mpl.ratio;\n    var y0 = (fig.canvas.height - msg['y0']) / mpl.ratio;\n    var x1 = msg['x1'] / mpl.ratio;\n    var y1 = (fig.canvas.height - msg['y1']) / mpl.ratio;\n    x0 = Math.floor(x0) + 0.5;\n    y0 = Math.floor(y0) + 0.5;\n    x1 = Math.floor(x1) + 0.5;\n    y1 = Math.floor(y1) + 0.5;\n    var min_x = Math.min(x0, x1);\n    var min_y = Math.min(y0, y1);\n    var width = Math.abs(x1 - x0);\n    var height = Math.abs(y1 - y0);\n\n    fig.rubberband_context.clearRect(\n        0, 0, fig.canvas.width, fig.canvas.height);\n\n    fig.rubberband_context.strokeRect(min_x, min_y, width, height);\n}\n\nmpl.figure.prototype.handle_figure_label = function(fig, msg) {\n    // Updates the figure title.\n    fig.header.textContent = msg['label'];\n}\n\nmpl.figure.prototype.handle_cursor = function(fig, msg) {\n    var cursor = msg['cursor'];\n    switch(cursor)\n    {\n    case 0:\n        cursor = 'pointer';\n        break;\n    case 1:\n        cursor = 'default';\n        break;\n    case 2:\n        cursor = 'crosshair';\n        break;\n    case 3:\n        cursor = 'move';\n        break;\n    }\n    fig.rubberband_canvas.style.cursor = cursor;\n}\n\nmpl.figure.prototype.handle_message = function(fig, msg) {\n    fig.message.textContent = msg['message'];\n}\n\nmpl.figure.prototype.handle_draw = function(fig, msg) {\n    // Request the server to send over a new figure.\n    fig.send_draw_message();\n}\n\nmpl.figure.prototype.handle_image_mode = function(fig, msg) {\n    fig.image_mode = msg['mode'];\n}\n\nmpl.figure.prototype.updated_canvas_event = function() {\n    // Called whenever the canvas gets updated.\n    this.send_message(\"ack\", {});\n}\n\n// A function to construct a web socket function for onmessage handling.\n// Called in the figure constructor.\nmpl.figure.prototype._make_on_message_function = function(fig) {\n    return function socket_on_message(evt) {\n        if (evt.data instanceof Blob) {\n            /* FIXME: We get \"Resource interpreted as Image but\n             * transferred with MIME type text/plain:\" errors on\n             * Chrome.  But how to set the MIME type?  It doesn't seem\n             * to be part of the websocket stream */\n            evt.data.type = \"image/png\";\n\n            /* Free the memory for the previous frames */\n            if (fig.imageObj.src) {\n                (window.URL || window.webkitURL).revokeObjectURL(\n                    fig.imageObj.src);\n            }\n\n            fig.imageObj.src = (window.URL || window.webkitURL).createObjectURL(\n                evt.data);\n            fig.updated_canvas_event();\n            fig.waiting = false;\n            return;\n        }\n        else if (typeof evt.data === 'string' && evt.data.slice(0, 21) == \"data:image/png;base64\") {\n            fig.imageObj.src = evt.data;\n            fig.updated_canvas_event();\n            fig.waiting = false;\n            return;\n        }\n\n        var msg = JSON.parse(evt.data);\n        var msg_type = msg['type'];\n\n        // Call the  \"handle_{type}\" callback, which takes\n        // the figure and JSON message as its only arguments.\n        try {\n            var callback = fig[\"handle_\" + msg_type];\n        } catch (e) {\n            console.log(\"No handler for the '\" + msg_type + \"' message type: \", msg);\n            return;\n        }\n\n        if (callback) {\n            try {\n                // console.log(\"Handling '\" + msg_type + \"' message: \", msg);\n                callback(fig, msg);\n            } catch (e) {\n                console.log(\"Exception inside the 'handler_\" + msg_type + \"' callback:\", e, e.stack, msg);\n            }\n        }\n    };\n}\n\n// from http://stackoverflow.com/questions/1114465/getting-mouse-location-in-canvas\nmpl.findpos = function(e) {\n    //this section is from http://www.quirksmode.org/js/events_properties.html\n    var targ;\n    if (!e)\n        e = window.event;\n    if (e.target)\n        targ = e.target;\n    else if (e.srcElement)\n        targ = e.srcElement;\n    if (targ.nodeType == 3) // defeat Safari bug\n        targ = targ.parentNode;\n\n    // jQuery normalizes the pageX and pageY\n    // pageX,Y are the mouse positions relative to the document\n    // offset() returns the position of the element relative to the document\n    var x = e.pageX - $(targ).offset().left;\n    var y = e.pageY - $(targ).offset().top;\n\n    return {\"x\": x, \"y\": y};\n};\n\n/*\n * return a copy of an object with only non-object keys\n * we need this to avoid circular references\n * http://stackoverflow.com/a/24161582/3208463\n */\nfunction simpleKeys (original) {\n  return Object.keys(original).reduce(function (obj, key) {\n    if (typeof original[key] !== 'object')\n        obj[key] = original[key]\n    return obj;\n  }, {});\n}\n\nmpl.figure.prototype.mouse_event = function(event, name) {\n    var canvas_pos = mpl.findpos(event)\n\n    if (name === 'button_press')\n    {\n        this.canvas.focus();\n        this.canvas_div.focus();\n    }\n\n    var x = canvas_pos.x * mpl.ratio;\n    var y = canvas_pos.y * mpl.ratio;\n\n    this.send_message(name, {x: x, y: y, button: event.button,\n                             step: event.step,\n                             guiEvent: simpleKeys(event)});\n\n    /* This prevents the web browser from automatically changing to\n     * the text insertion cursor when the button is pressed.  We want\n     * to control all of the cursor setting manually through the\n     * 'cursor' event from matplotlib */\n    event.preventDefault();\n    return false;\n}\n\nmpl.figure.prototype._key_event_extra = function(event, name) {\n    // Handle any extra behaviour associated with a key event\n}\n\nmpl.figure.prototype.key_event = function(event, name) {\n\n    // Prevent repeat events\n    if (name == 'key_press')\n    {\n        if (event.which === this._key)\n            return;\n        else\n            this._key = event.which;\n    }\n    if (name == 'key_release')\n        this._key = null;\n\n    var value = '';\n    if (event.ctrlKey && event.which != 17)\n        value += \"ctrl+\";\n    if (event.altKey && event.which != 18)\n        value += \"alt+\";\n    if (event.shiftKey && event.which != 16)\n        value += \"shift+\";\n\n    value += 'k';\n    value += event.which.toString();\n\n    this._key_event_extra(event, name);\n\n    this.send_message(name, {key: value,\n                             guiEvent: simpleKeys(event)});\n    return false;\n}\n\nmpl.figure.prototype.toolbar_button_onclick = function(name) {\n    if (name == 'download') {\n        this.handle_save(this, null);\n    } else {\n        this.send_message(\"toolbar_button\", {name: name});\n    }\n};\n\nmpl.figure.prototype.toolbar_button_onmouseover = function(tooltip) {\n    this.message.textContent = tooltip;\n};\nmpl.toolbar_items = [[\"Home\", \"Reset original view\", \"fa fa-home icon-home\", \"home\"], [\"Back\", \"Back to  previous view\", \"fa fa-arrow-left icon-arrow-left\", \"back\"], [\"Forward\", \"Forward to next view\", \"fa fa-arrow-right icon-arrow-right\", \"forward\"], [\"\", \"\", \"\", \"\"], [\"Pan\", \"Pan axes with left mouse, zoom with right\", \"fa fa-arrows icon-move\", \"pan\"], [\"Zoom\", \"Zoom to rectangle\", \"fa fa-square-o icon-check-empty\", \"zoom\"], [\"\", \"\", \"\", \"\"], [\"Download\", \"Download plot\", \"fa fa-floppy-o icon-save\", \"download\"]];\n\nmpl.extensions = [\"eps\", \"jpeg\", \"pdf\", \"png\", \"ps\", \"raw\", \"svg\", \"tif\"];\n\nmpl.default_extension = \"png\";var comm_websocket_adapter = function(comm) {\n    // Create a \"websocket\"-like object which calls the given IPython comm\n    // object with the appropriate methods. Currently this is a non binary\n    // socket, so there is still some room for performance tuning.\n    var ws = {};\n\n    ws.close = function() {\n        comm.close()\n    };\n    ws.send = function(m) {\n        //console.log('sending', m);\n        comm.send(m);\n    };\n    // Register the callback with on_msg.\n    comm.on_msg(function(msg) {\n        //console.log('receiving', msg['content']['data'], msg);\n        // Pass the mpl event to the overriden (by mpl) onmessage function.\n        ws.onmessage(msg['content']['data'])\n    });\n    return ws;\n}\n\nmpl.mpl_figure_comm = function(comm, msg) {\n    // This is the function which gets called when the mpl process\n    // starts-up an IPython Comm through the \"matplotlib\" channel.\n\n    var id = msg.content.data.id;\n    // Get hold of the div created by the display call when the Comm\n    // socket was opened in Python.\n    var element = $(\"#\" + id);\n    var ws_proxy = comm_websocket_adapter(comm)\n\n    function ondownload(figure, format) {\n        window.open(figure.imageObj.src);\n    }\n\n    var fig = new mpl.figure(id, ws_proxy,\n                           ondownload,\n                           element.get(0));\n\n    // Call onopen now - mpl needs it, as it is assuming we've passed it a real\n    // web socket which is closed, not our websocket->open comm proxy.\n    ws_proxy.onopen();\n\n    fig.parent_element = element.get(0);\n    fig.cell_info = mpl.find_output_cell(\"<div id='\" + id + \"'></div>\");\n    if (!fig.cell_info) {\n        console.error(\"Failed to find cell for figure\", id, fig);\n        return;\n    }\n\n    var output_index = fig.cell_info[2]\n    var cell = fig.cell_info[0];\n\n};\n\nmpl.figure.prototype.handle_close = function(fig, msg) {\n    var width = fig.canvas.width/mpl.ratio\n    fig.root.unbind('remove')\n\n    // Update the output cell to use the data from the current canvas.\n    fig.push_to_output();\n    var dataURL = fig.canvas.toDataURL();\n    // Re-enable the keyboard manager in IPython - without this line, in FF,\n    // the notebook keyboard shortcuts fail.\n    IPython.keyboard_manager.enable()\n    $(fig.parent_element).html('<img src=\"' + dataURL + '\" width=\"' + width + '\">');\n    fig.close_ws(fig, msg);\n}\n\nmpl.figure.prototype.close_ws = function(fig, msg){\n    fig.send_message('closing', msg);\n    // fig.ws.close()\n}\n\nmpl.figure.prototype.push_to_output = function(remove_interactive) {\n    // Turn the data on the canvas into data in the output cell.\n    var width = this.canvas.width/mpl.ratio\n    var dataURL = this.canvas.toDataURL();\n    this.cell_info[1]['text/html'] = '<img src=\"' + dataURL + '\" width=\"' + width + '\">';\n}\n\nmpl.figure.prototype.updated_canvas_event = function() {\n    // Tell IPython that the notebook contents must change.\n    IPython.notebook.set_dirty(true);\n    this.send_message(\"ack\", {});\n    var fig = this;\n    // Wait a second, then push the new image to the DOM so\n    // that it is saved nicely (might be nice to debounce this).\n    setTimeout(function () { fig.push_to_output() }, 1000);\n}\n\nmpl.figure.prototype._init_toolbar = function() {\n    var fig = this;\n\n    var nav_element = $('<div/>')\n    nav_element.attr('style', 'width: 100%');\n    this.root.append(nav_element);\n\n    // Define a callback function for later on.\n    function toolbar_event(event) {\n        return fig.toolbar_button_onclick(event['data']);\n    }\n    function toolbar_mouse_event(event) {\n        return fig.toolbar_button_onmouseover(event['data']);\n    }\n\n    for(var toolbar_ind in mpl.toolbar_items){\n        var name = mpl.toolbar_items[toolbar_ind][0];\n        var tooltip = mpl.toolbar_items[toolbar_ind][1];\n        var image = mpl.toolbar_items[toolbar_ind][2];\n        var method_name = mpl.toolbar_items[toolbar_ind][3];\n\n        if (!name) { continue; };\n\n        var button = $('<button class=\"btn btn-default\" href=\"#\" title=\"' + name + '\"><i class=\"fa ' + image + ' fa-lg\"></i></button>');\n        button.click(method_name, toolbar_event);\n        button.mouseover(tooltip, toolbar_mouse_event);\n        nav_element.append(button);\n    }\n\n    // Add the status bar.\n    var status_bar = $('<span class=\"mpl-message\" style=\"text-align:right; float: right;\"/>');\n    nav_element.append(status_bar);\n    this.message = status_bar[0];\n\n    // Add the close button to the window.\n    var buttongrp = $('<div class=\"btn-group inline pull-right\"></div>');\n    var button = $('<button class=\"btn btn-mini btn-primary\" href=\"#\" title=\"Stop Interaction\"><i class=\"fa fa-power-off icon-remove icon-large\"></i></button>');\n    button.click(function (evt) { fig.handle_close(fig, {}); } );\n    button.mouseover('Stop Interaction', toolbar_mouse_event);\n    buttongrp.append(button);\n    var titlebar = this.root.find($('.ui-dialog-titlebar'));\n    titlebar.prepend(buttongrp);\n}\n\nmpl.figure.prototype._root_extra_style = function(el){\n    var fig = this\n    el.on(\"remove\", function(){\n\tfig.close_ws(fig, {});\n    });\n}\n\nmpl.figure.prototype._canvas_extra_style = function(el){\n    // this is important to make the div 'focusable\n    el.attr('tabindex', 0)\n    // reach out to IPython and tell the keyboard manager to turn it's self\n    // off when our div gets focus\n\n    // location in version 3\n    if (IPython.notebook.keyboard_manager) {\n        IPython.notebook.keyboard_manager.register_events(el);\n    }\n    else {\n        // location in version 2\n        IPython.keyboard_manager.register_events(el);\n    }\n\n}\n\nmpl.figure.prototype._key_event_extra = function(event, name) {\n    var manager = IPython.notebook.keyboard_manager;\n    if (!manager)\n        manager = IPython.keyboard_manager;\n\n    // Check for shift+enter\n    if (event.shiftKey && event.which == 13) {\n        this.canvas_div.blur();\n        // select the cell after this one\n        var index = IPython.notebook.find_cell_index(this.cell_info[0]);\n        IPython.notebook.select(index + 1);\n    }\n}\n\nmpl.figure.prototype.handle_save = function(fig, msg) {\n    fig.ondownload(fig, null);\n}\n\n\nmpl.find_output_cell = function(html_output) {\n    // Return the cell and output element which can be found *uniquely* in the notebook.\n    // Note - this is a bit hacky, but it is done because the \"notebook_saving.Notebook\"\n    // IPython event is triggered only after the cells have been serialised, which for\n    // our purposes (turning an active figure into a static one), is too late.\n    var cells = IPython.notebook.get_cells();\n    var ncells = cells.length;\n    for (var i=0; i<ncells; i++) {\n        var cell = cells[i];\n        if (cell.cell_type === 'code'){\n            for (var j=0; j<cell.output_area.outputs.length; j++) {\n                var data = cell.output_area.outputs[j];\n                if (data.data) {\n                    // IPython >= 3 moved mimebundle to data attribute of output\n                    data = data.data;\n                }\n                if (data['text/html'] == html_output) {\n                    return [cell, data, j];\n                }\n            }\n        }\n    }\n}\n\n// Register the function which deals with the matplotlib target/channel.\n// The kernel may be null if the page has been refreshed.\nif (IPython.notebook.kernel != null) {\n    IPython.notebook.kernel.comm_manager.register_target('matplotlib', mpl.mpl_figure_comm);\n}\n",
      "text/plain": [
       "<IPython.core.display.Javascript object>"
      ]
     },
     "metadata": {},
     "output_type": "display_data"
    },
    {
     "data": {
      "text/html": [
       "<img src=\"data:image/png;base64,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\" width=\"640\">"
      ],
      "text/plain": [
       "<IPython.core.display.HTML object>"
      ]
     },
     "metadata": {},
     "output_type": "display_data"
    },
    {
     "data": {
      "text/plain": [
       "[<matplotlib.lines.Line2D at 0x7f6878386400>]"
      ]
     },
     "execution_count": 10,
     "metadata": {},
     "output_type": "execute_result"
    }
   ],
   "source": [
    "# we can pass in '.' to plt.plot to indicate that we want\n",
    "# the point (3,2) to be indicated with a marker '.'\n",
    "plt.plot(3, 2, '.')"
   ]
  },
  {
   "cell_type": "markdown",
   "metadata": {},
   "source": [
    "Let's see how to make a plot without using the scripting layer."
   ]
  },
  {
   "cell_type": "code",
   "execution_count": 11,
   "metadata": {
    "collapsed": false
   },
   "outputs": [],
   "source": [
    "# First let's set the backend without using mpl.use() from the scripting layer\n",
    "from matplotlib.backends.backend_agg import FigureCanvasAgg\n",
    "from matplotlib.figure import Figure\n",
    "\n",
    "# create a new figure\n",
    "fig = Figure()\n",
    "\n",
    "# associate fig with the backend\n",
    "canvas = FigureCanvasAgg(fig)\n",
    "\n",
    "# add a subplot to the fig\n",
    "ax = fig.add_subplot(111)\n",
    "\n",
    "# plot the point (3,2)\n",
    "ax.plot(3, 2, '.')\n",
    "\n",
    "# save the figure to test.png\n",
    "canvas.print_png('test.png')"
   ]
  },
  {
   "cell_type": "markdown",
   "metadata": {},
   "source": [
    "We can use html cell magic to display the image."
   ]
  },
  {
   "cell_type": "code",
   "execution_count": 12,
   "metadata": {
    "collapsed": false
   },
   "outputs": [
    {
     "data": {
      "text/html": [
       "<img src='test.png' />"
      ],
      "text/plain": [
       "<IPython.core.display.HTML object>"
      ]
     },
     "metadata": {},
     "output_type": "display_data"
    }
   ],
   "source": [
    "%%html\n",
    "<img src='test.png' />"
   ]
  },
  {
   "cell_type": "code",
   "execution_count": 13,
   "metadata": {
    "collapsed": false
   },
   "outputs": [
    {
     "data": {
      "application/javascript": "/* Put everything inside the global mpl namespace */\nwindow.mpl = {};\n\n\nmpl.get_websocket_type = function() {\n    if (typeof(WebSocket) !== 'undefined') {\n        return WebSocket;\n    } else if (typeof(MozWebSocket) !== 'undefined') {\n        return MozWebSocket;\n    } else {\n        alert('Your browser does not have WebSocket support.' +\n              'Please try Chrome, Safari or Firefox ≥ 6. ' +\n              'Firefox 4 and 5 are also supported but you ' +\n              'have to enable WebSockets in about:config.');\n    };\n}\n\nmpl.figure = function(figure_id, websocket, ondownload, parent_element) {\n    this.id = figure_id;\n\n    this.ws = websocket;\n\n    this.supports_binary = (this.ws.binaryType != undefined);\n\n    if (!this.supports_binary) {\n        var warnings = document.getElementById(\"mpl-warnings\");\n        if (warnings) {\n            warnings.style.display = 'block';\n            warnings.textContent = (\n                \"This browser does not support binary websocket messages. \" +\n                    \"Performance may be slow.\");\n        }\n    }\n\n    this.imageObj = new Image();\n\n    this.context = undefined;\n    this.message = undefined;\n    this.canvas = undefined;\n    this.rubberband_canvas = undefined;\n    this.rubberband_context = undefined;\n    this.format_dropdown = undefined;\n\n    this.image_mode = 'full';\n\n    this.root = $('<div/>');\n    this._root_extra_style(this.root)\n    this.root.attr('style', 'display: inline-block');\n\n    $(parent_element).append(this.root);\n\n    this._init_header(this);\n    this._init_canvas(this);\n    this._init_toolbar(this);\n\n    var fig = this;\n\n    this.waiting = false;\n\n    this.ws.onopen =  function () {\n            fig.send_message(\"supports_binary\", {value: fig.supports_binary});\n            fig.send_message(\"send_image_mode\", {});\n            if (mpl.ratio != 1) {\n                fig.send_message(\"set_dpi_ratio\", {'dpi_ratio': mpl.ratio});\n            }\n            fig.send_message(\"refresh\", {});\n        }\n\n    this.imageObj.onload = function() {\n            if (fig.image_mode == 'full') {\n                // Full images could contain transparency (where diff images\n                // almost always do), so we need to clear the canvas so that\n                // there is no ghosting.\n                fig.context.clearRect(0, 0, fig.canvas.width, fig.canvas.height);\n            }\n            fig.context.drawImage(fig.imageObj, 0, 0);\n        };\n\n    this.imageObj.onunload = function() {\n        this.ws.close();\n    }\n\n    this.ws.onmessage = this._make_on_message_function(this);\n\n    this.ondownload = ondownload;\n}\n\nmpl.figure.prototype._init_header = function() {\n    var titlebar = $(\n        '<div class=\"ui-dialog-titlebar ui-widget-header ui-corner-all ' +\n        'ui-helper-clearfix\"/>');\n    var titletext = $(\n        '<div class=\"ui-dialog-title\" style=\"width: 100%; ' +\n        'text-align: center; padding: 3px;\"/>');\n    titlebar.append(titletext)\n    this.root.append(titlebar);\n    this.header = titletext[0];\n}\n\n\n\nmpl.figure.prototype._canvas_extra_style = function(canvas_div) {\n\n}\n\n\nmpl.figure.prototype._root_extra_style = function(canvas_div) {\n\n}\n\nmpl.figure.prototype._init_canvas = function() {\n    var fig = this;\n\n    var canvas_div = $('<div/>');\n\n    canvas_div.attr('style', 'position: relative; clear: both; outline: 0');\n\n    function canvas_keyboard_event(event) {\n        return fig.key_event(event, event['data']);\n    }\n\n    canvas_div.keydown('key_press', canvas_keyboard_event);\n    canvas_div.keyup('key_release', canvas_keyboard_event);\n    this.canvas_div = canvas_div\n    this._canvas_extra_style(canvas_div)\n    this.root.append(canvas_div);\n\n    var canvas = $('<canvas/>');\n    canvas.addClass('mpl-canvas');\n    canvas.attr('style', \"left: 0; top: 0; z-index: 0; outline: 0\")\n\n    this.canvas = canvas[0];\n    this.context = canvas[0].getContext(\"2d\");\n\n    var backingStore = this.context.backingStorePixelRatio ||\n\tthis.context.webkitBackingStorePixelRatio ||\n\tthis.context.mozBackingStorePixelRatio ||\n\tthis.context.msBackingStorePixelRatio ||\n\tthis.context.oBackingStorePixelRatio ||\n\tthis.context.backingStorePixelRatio || 1;\n\n    mpl.ratio = (window.devicePixelRatio || 1) / backingStore;\n\n    var rubberband = $('<canvas/>');\n    rubberband.attr('style', \"position: absolute; left: 0; top: 0; z-index: 1;\")\n\n    var pass_mouse_events = true;\n\n    canvas_div.resizable({\n        start: function(event, ui) {\n            pass_mouse_events = false;\n        },\n        resize: function(event, ui) {\n            fig.request_resize(ui.size.width, ui.size.height);\n        },\n        stop: function(event, ui) {\n            pass_mouse_events = true;\n            fig.request_resize(ui.size.width, ui.size.height);\n        },\n    });\n\n    function mouse_event_fn(event) {\n        if (pass_mouse_events)\n            return fig.mouse_event(event, event['data']);\n    }\n\n    rubberband.mousedown('button_press', mouse_event_fn);\n    rubberband.mouseup('button_release', mouse_event_fn);\n    // Throttle sequential mouse events to 1 every 20ms.\n    rubberband.mousemove('motion_notify', mouse_event_fn);\n\n    rubberband.mouseenter('figure_enter', mouse_event_fn);\n    rubberband.mouseleave('figure_leave', mouse_event_fn);\n\n    canvas_div.on(\"wheel\", function (event) {\n        event = event.originalEvent;\n        event['data'] = 'scroll'\n        if (event.deltaY < 0) {\n            event.step = 1;\n        } else {\n            event.step = -1;\n        }\n        mouse_event_fn(event);\n    });\n\n    canvas_div.append(canvas);\n    canvas_div.append(rubberband);\n\n    this.rubberband = rubberband;\n    this.rubberband_canvas = rubberband[0];\n    this.rubberband_context = rubberband[0].getContext(\"2d\");\n    this.rubberband_context.strokeStyle = \"#000000\";\n\n    this._resize_canvas = function(width, height) {\n        // Keep the size of the canvas, canvas container, and rubber band\n        // canvas in synch.\n        canvas_div.css('width', width)\n        canvas_div.css('height', height)\n\n        canvas.attr('width', width * mpl.ratio);\n        canvas.attr('height', height * mpl.ratio);\n        canvas.attr('style', 'width: ' + width + 'px; height: ' + height + 'px;');\n\n        rubberband.attr('width', width);\n        rubberband.attr('height', height);\n    }\n\n    // Set the figure to an initial 600x600px, this will subsequently be updated\n    // upon first draw.\n    this._resize_canvas(600, 600);\n\n    // Disable right mouse context menu.\n    $(this.rubberband_canvas).bind(\"contextmenu\",function(e){\n        return false;\n    });\n\n    function set_focus () {\n        canvas.focus();\n        canvas_div.focus();\n    }\n\n    window.setTimeout(set_focus, 100);\n}\n\nmpl.figure.prototype._init_toolbar = function() {\n    var fig = this;\n\n    var nav_element = $('<div/>')\n    nav_element.attr('style', 'width: 100%');\n    this.root.append(nav_element);\n\n    // Define a callback function for later on.\n    function toolbar_event(event) {\n        return fig.toolbar_button_onclick(event['data']);\n    }\n    function toolbar_mouse_event(event) {\n        return fig.toolbar_button_onmouseover(event['data']);\n    }\n\n    for(var toolbar_ind in mpl.toolbar_items) {\n        var name = mpl.toolbar_items[toolbar_ind][0];\n        var tooltip = mpl.toolbar_items[toolbar_ind][1];\n        var image = mpl.toolbar_items[toolbar_ind][2];\n        var method_name = mpl.toolbar_items[toolbar_ind][3];\n\n        if (!name) {\n            // put a spacer in here.\n            continue;\n        }\n        var button = $('<button/>');\n        button.addClass('ui-button ui-widget ui-state-default ui-corner-all ' +\n                        'ui-button-icon-only');\n        button.attr('role', 'button');\n        button.attr('aria-disabled', 'false');\n        button.click(method_name, toolbar_event);\n        button.mouseover(tooltip, toolbar_mouse_event);\n\n        var icon_img = $('<span/>');\n        icon_img.addClass('ui-button-icon-primary ui-icon');\n        icon_img.addClass(image);\n        icon_img.addClass('ui-corner-all');\n\n        var tooltip_span = $('<span/>');\n        tooltip_span.addClass('ui-button-text');\n        tooltip_span.html(tooltip);\n\n        button.append(icon_img);\n        button.append(tooltip_span);\n\n        nav_element.append(button);\n    }\n\n    var fmt_picker_span = $('<span/>');\n\n    var fmt_picker = $('<select/>');\n    fmt_picker.addClass('mpl-toolbar-option ui-widget ui-widget-content');\n    fmt_picker_span.append(fmt_picker);\n    nav_element.append(fmt_picker_span);\n    this.format_dropdown = fmt_picker[0];\n\n    for (var ind in mpl.extensions) {\n        var fmt = mpl.extensions[ind];\n        var option = $(\n            '<option/>', {selected: fmt === mpl.default_extension}).html(fmt);\n        fmt_picker.append(option)\n    }\n\n    // Add hover states to the ui-buttons\n    $( \".ui-button\" ).hover(\n        function() { $(this).addClass(\"ui-state-hover\");},\n        function() { $(this).removeClass(\"ui-state-hover\");}\n    );\n\n    var status_bar = $('<span class=\"mpl-message\"/>');\n    nav_element.append(status_bar);\n    this.message = status_bar[0];\n}\n\nmpl.figure.prototype.request_resize = function(x_pixels, y_pixels) {\n    // Request matplotlib to resize the figure. Matplotlib will then trigger a resize in the client,\n    // which will in turn request a refresh of the image.\n    this.send_message('resize', {'width': x_pixels, 'height': y_pixels});\n}\n\nmpl.figure.prototype.send_message = function(type, properties) {\n    properties['type'] = type;\n    properties['figure_id'] = this.id;\n    this.ws.send(JSON.stringify(properties));\n}\n\nmpl.figure.prototype.send_draw_message = function() {\n    if (!this.waiting) {\n        this.waiting = true;\n        this.ws.send(JSON.stringify({type: \"draw\", figure_id: this.id}));\n    }\n}\n\n\nmpl.figure.prototype.handle_save = function(fig, msg) {\n    var format_dropdown = fig.format_dropdown;\n    var format = format_dropdown.options[format_dropdown.selectedIndex].value;\n    fig.ondownload(fig, format);\n}\n\n\nmpl.figure.prototype.handle_resize = function(fig, msg) {\n    var size = msg['size'];\n    if (size[0] != fig.canvas.width || size[1] != fig.canvas.height) {\n        fig._resize_canvas(size[0], size[1]);\n        fig.send_message(\"refresh\", {});\n    };\n}\n\nmpl.figure.prototype.handle_rubberband = function(fig, msg) {\n    var x0 = msg['x0'] / mpl.ratio;\n    var y0 = (fig.canvas.height - msg['y0']) / mpl.ratio;\n    var x1 = msg['x1'] / mpl.ratio;\n    var y1 = (fig.canvas.height - msg['y1']) / mpl.ratio;\n    x0 = Math.floor(x0) + 0.5;\n    y0 = Math.floor(y0) + 0.5;\n    x1 = Math.floor(x1) + 0.5;\n    y1 = Math.floor(y1) + 0.5;\n    var min_x = Math.min(x0, x1);\n    var min_y = Math.min(y0, y1);\n    var width = Math.abs(x1 - x0);\n    var height = Math.abs(y1 - y0);\n\n    fig.rubberband_context.clearRect(\n        0, 0, fig.canvas.width, fig.canvas.height);\n\n    fig.rubberband_context.strokeRect(min_x, min_y, width, height);\n}\n\nmpl.figure.prototype.handle_figure_label = function(fig, msg) {\n    // Updates the figure title.\n    fig.header.textContent = msg['label'];\n}\n\nmpl.figure.prototype.handle_cursor = function(fig, msg) {\n    var cursor = msg['cursor'];\n    switch(cursor)\n    {\n    case 0:\n        cursor = 'pointer';\n        break;\n    case 1:\n        cursor = 'default';\n        break;\n    case 2:\n        cursor = 'crosshair';\n        break;\n    case 3:\n        cursor = 'move';\n        break;\n    }\n    fig.rubberband_canvas.style.cursor = cursor;\n}\n\nmpl.figure.prototype.handle_message = function(fig, msg) {\n    fig.message.textContent = msg['message'];\n}\n\nmpl.figure.prototype.handle_draw = function(fig, msg) {\n    // Request the server to send over a new figure.\n    fig.send_draw_message();\n}\n\nmpl.figure.prototype.handle_image_mode = function(fig, msg) {\n    fig.image_mode = msg['mode'];\n}\n\nmpl.figure.prototype.updated_canvas_event = function() {\n    // Called whenever the canvas gets updated.\n    this.send_message(\"ack\", {});\n}\n\n// A function to construct a web socket function for onmessage handling.\n// Called in the figure constructor.\nmpl.figure.prototype._make_on_message_function = function(fig) {\n    return function socket_on_message(evt) {\n        if (evt.data instanceof Blob) {\n            /* FIXME: We get \"Resource interpreted as Image but\n             * transferred with MIME type text/plain:\" errors on\n             * Chrome.  But how to set the MIME type?  It doesn't seem\n             * to be part of the websocket stream */\n            evt.data.type = \"image/png\";\n\n            /* Free the memory for the previous frames */\n            if (fig.imageObj.src) {\n                (window.URL || window.webkitURL).revokeObjectURL(\n                    fig.imageObj.src);\n            }\n\n            fig.imageObj.src = (window.URL || window.webkitURL).createObjectURL(\n                evt.data);\n            fig.updated_canvas_event();\n            fig.waiting = false;\n            return;\n        }\n        else if (typeof evt.data === 'string' && evt.data.slice(0, 21) == \"data:image/png;base64\") {\n            fig.imageObj.src = evt.data;\n            fig.updated_canvas_event();\n            fig.waiting = false;\n            return;\n        }\n\n        var msg = JSON.parse(evt.data);\n        var msg_type = msg['type'];\n\n        // Call the  \"handle_{type}\" callback, which takes\n        // the figure and JSON message as its only arguments.\n        try {\n            var callback = fig[\"handle_\" + msg_type];\n        } catch (e) {\n            console.log(\"No handler for the '\" + msg_type + \"' message type: \", msg);\n            return;\n        }\n\n        if (callback) {\n            try {\n                // console.log(\"Handling '\" + msg_type + \"' message: \", msg);\n                callback(fig, msg);\n            } catch (e) {\n                console.log(\"Exception inside the 'handler_\" + msg_type + \"' callback:\", e, e.stack, msg);\n            }\n        }\n    };\n}\n\n// from http://stackoverflow.com/questions/1114465/getting-mouse-location-in-canvas\nmpl.findpos = function(e) {\n    //this section is from http://www.quirksmode.org/js/events_properties.html\n    var targ;\n    if (!e)\n        e = window.event;\n    if (e.target)\n        targ = e.target;\n    else if (e.srcElement)\n        targ = e.srcElement;\n    if (targ.nodeType == 3) // defeat Safari bug\n        targ = targ.parentNode;\n\n    // jQuery normalizes the pageX and pageY\n    // pageX,Y are the mouse positions relative to the document\n    // offset() returns the position of the element relative to the document\n    var x = e.pageX - $(targ).offset().left;\n    var y = e.pageY - $(targ).offset().top;\n\n    return {\"x\": x, \"y\": y};\n};\n\n/*\n * return a copy of an object with only non-object keys\n * we need this to avoid circular references\n * http://stackoverflow.com/a/24161582/3208463\n */\nfunction simpleKeys (original) {\n  return Object.keys(original).reduce(function (obj, key) {\n    if (typeof original[key] !== 'object')\n        obj[key] = original[key]\n    return obj;\n  }, {});\n}\n\nmpl.figure.prototype.mouse_event = function(event, name) {\n    var canvas_pos = mpl.findpos(event)\n\n    if (name === 'button_press')\n    {\n        this.canvas.focus();\n        this.canvas_div.focus();\n    }\n\n    var x = canvas_pos.x * mpl.ratio;\n    var y = canvas_pos.y * mpl.ratio;\n\n    this.send_message(name, {x: x, y: y, button: event.button,\n                             step: event.step,\n                             guiEvent: simpleKeys(event)});\n\n    /* This prevents the web browser from automatically changing to\n     * the text insertion cursor when the button is pressed.  We want\n     * to control all of the cursor setting manually through the\n     * 'cursor' event from matplotlib */\n    event.preventDefault();\n    return false;\n}\n\nmpl.figure.prototype._key_event_extra = function(event, name) {\n    // Handle any extra behaviour associated with a key event\n}\n\nmpl.figure.prototype.key_event = function(event, name) {\n\n    // Prevent repeat events\n    if (name == 'key_press')\n    {\n        if (event.which === this._key)\n            return;\n        else\n            this._key = event.which;\n    }\n    if (name == 'key_release')\n        this._key = null;\n\n    var value = '';\n    if (event.ctrlKey && event.which != 17)\n        value += \"ctrl+\";\n    if (event.altKey && event.which != 18)\n        value += \"alt+\";\n    if (event.shiftKey && event.which != 16)\n        value += \"shift+\";\n\n    value += 'k';\n    value += event.which.toString();\n\n    this._key_event_extra(event, name);\n\n    this.send_message(name, {key: value,\n                             guiEvent: simpleKeys(event)});\n    return false;\n}\n\nmpl.figure.prototype.toolbar_button_onclick = function(name) {\n    if (name == 'download') {\n        this.handle_save(this, null);\n    } else {\n        this.send_message(\"toolbar_button\", {name: name});\n    }\n};\n\nmpl.figure.prototype.toolbar_button_onmouseover = function(tooltip) {\n    this.message.textContent = tooltip;\n};\nmpl.toolbar_items = [[\"Home\", \"Reset original view\", \"fa fa-home icon-home\", \"home\"], [\"Back\", \"Back to  previous view\", \"fa fa-arrow-left icon-arrow-left\", \"back\"], [\"Forward\", \"Forward to next view\", \"fa fa-arrow-right icon-arrow-right\", \"forward\"], [\"\", \"\", \"\", \"\"], [\"Pan\", \"Pan axes with left mouse, zoom with right\", \"fa fa-arrows icon-move\", \"pan\"], [\"Zoom\", \"Zoom to rectangle\", \"fa fa-square-o icon-check-empty\", \"zoom\"], [\"\", \"\", \"\", \"\"], [\"Download\", \"Download plot\", \"fa fa-floppy-o icon-save\", \"download\"]];\n\nmpl.extensions = [\"eps\", \"jpeg\", \"pdf\", \"png\", \"ps\", \"raw\", \"svg\", \"tif\"];\n\nmpl.default_extension = \"png\";var comm_websocket_adapter = function(comm) {\n    // Create a \"websocket\"-like object which calls the given IPython comm\n    // object with the appropriate methods. Currently this is a non binary\n    // socket, so there is still some room for performance tuning.\n    var ws = {};\n\n    ws.close = function() {\n        comm.close()\n    };\n    ws.send = function(m) {\n        //console.log('sending', m);\n        comm.send(m);\n    };\n    // Register the callback with on_msg.\n    comm.on_msg(function(msg) {\n        //console.log('receiving', msg['content']['data'], msg);\n        // Pass the mpl event to the overriden (by mpl) onmessage function.\n        ws.onmessage(msg['content']['data'])\n    });\n    return ws;\n}\n\nmpl.mpl_figure_comm = function(comm, msg) {\n    // This is the function which gets called when the mpl process\n    // starts-up an IPython Comm through the \"matplotlib\" channel.\n\n    var id = msg.content.data.id;\n    // Get hold of the div created by the display call when the Comm\n    // socket was opened in Python.\n    var element = $(\"#\" + id);\n    var ws_proxy = comm_websocket_adapter(comm)\n\n    function ondownload(figure, format) {\n        window.open(figure.imageObj.src);\n    }\n\n    var fig = new mpl.figure(id, ws_proxy,\n                           ondownload,\n                           element.get(0));\n\n    // Call onopen now - mpl needs it, as it is assuming we've passed it a real\n    // web socket which is closed, not our websocket->open comm proxy.\n    ws_proxy.onopen();\n\n    fig.parent_element = element.get(0);\n    fig.cell_info = mpl.find_output_cell(\"<div id='\" + id + \"'></div>\");\n    if (!fig.cell_info) {\n        console.error(\"Failed to find cell for figure\", id, fig);\n        return;\n    }\n\n    var output_index = fig.cell_info[2]\n    var cell = fig.cell_info[0];\n\n};\n\nmpl.figure.prototype.handle_close = function(fig, msg) {\n    var width = fig.canvas.width/mpl.ratio\n    fig.root.unbind('remove')\n\n    // Update the output cell to use the data from the current canvas.\n    fig.push_to_output();\n    var dataURL = fig.canvas.toDataURL();\n    // Re-enable the keyboard manager in IPython - without this line, in FF,\n    // the notebook keyboard shortcuts fail.\n    IPython.keyboard_manager.enable()\n    $(fig.parent_element).html('<img src=\"' + dataURL + '\" width=\"' + width + '\">');\n    fig.close_ws(fig, msg);\n}\n\nmpl.figure.prototype.close_ws = function(fig, msg){\n    fig.send_message('closing', msg);\n    // fig.ws.close()\n}\n\nmpl.figure.prototype.push_to_output = function(remove_interactive) {\n    // Turn the data on the canvas into data in the output cell.\n    var width = this.canvas.width/mpl.ratio\n    var dataURL = this.canvas.toDataURL();\n    this.cell_info[1]['text/html'] = '<img src=\"' + dataURL + '\" width=\"' + width + '\">';\n}\n\nmpl.figure.prototype.updated_canvas_event = function() {\n    // Tell IPython that the notebook contents must change.\n    IPython.notebook.set_dirty(true);\n    this.send_message(\"ack\", {});\n    var fig = this;\n    // Wait a second, then push the new image to the DOM so\n    // that it is saved nicely (might be nice to debounce this).\n    setTimeout(function () { fig.push_to_output() }, 1000);\n}\n\nmpl.figure.prototype._init_toolbar = function() {\n    var fig = this;\n\n    var nav_element = $('<div/>')\n    nav_element.attr('style', 'width: 100%');\n    this.root.append(nav_element);\n\n    // Define a callback function for later on.\n    function toolbar_event(event) {\n        return fig.toolbar_button_onclick(event['data']);\n    }\n    function toolbar_mouse_event(event) {\n        return fig.toolbar_button_onmouseover(event['data']);\n    }\n\n    for(var toolbar_ind in mpl.toolbar_items){\n        var name = mpl.toolbar_items[toolbar_ind][0];\n        var tooltip = mpl.toolbar_items[toolbar_ind][1];\n        var image = mpl.toolbar_items[toolbar_ind][2];\n        var method_name = mpl.toolbar_items[toolbar_ind][3];\n\n        if (!name) { continue; };\n\n        var button = $('<button class=\"btn btn-default\" href=\"#\" title=\"' + name + '\"><i class=\"fa ' + image + ' fa-lg\"></i></button>');\n        button.click(method_name, toolbar_event);\n        button.mouseover(tooltip, toolbar_mouse_event);\n        nav_element.append(button);\n    }\n\n    // Add the status bar.\n    var status_bar = $('<span class=\"mpl-message\" style=\"text-align:right; float: right;\"/>');\n    nav_element.append(status_bar);\n    this.message = status_bar[0];\n\n    // Add the close button to the window.\n    var buttongrp = $('<div class=\"btn-group inline pull-right\"></div>');\n    var button = $('<button class=\"btn btn-mini btn-primary\" href=\"#\" title=\"Stop Interaction\"><i class=\"fa fa-power-off icon-remove icon-large\"></i></button>');\n    button.click(function (evt) { fig.handle_close(fig, {}); } );\n    button.mouseover('Stop Interaction', toolbar_mouse_event);\n    buttongrp.append(button);\n    var titlebar = this.root.find($('.ui-dialog-titlebar'));\n    titlebar.prepend(buttongrp);\n}\n\nmpl.figure.prototype._root_extra_style = function(el){\n    var fig = this\n    el.on(\"remove\", function(){\n\tfig.close_ws(fig, {});\n    });\n}\n\nmpl.figure.prototype._canvas_extra_style = function(el){\n    // this is important to make the div 'focusable\n    el.attr('tabindex', 0)\n    // reach out to IPython and tell the keyboard manager to turn it's self\n    // off when our div gets focus\n\n    // location in version 3\n    if (IPython.notebook.keyboard_manager) {\n        IPython.notebook.keyboard_manager.register_events(el);\n    }\n    else {\n        // location in version 2\n        IPython.keyboard_manager.register_events(el);\n    }\n\n}\n\nmpl.figure.prototype._key_event_extra = function(event, name) {\n    var manager = IPython.notebook.keyboard_manager;\n    if (!manager)\n        manager = IPython.keyboard_manager;\n\n    // Check for shift+enter\n    if (event.shiftKey && event.which == 13) {\n        this.canvas_div.blur();\n        // select the cell after this one\n        var index = IPython.notebook.find_cell_index(this.cell_info[0]);\n        IPython.notebook.select(index + 1);\n    }\n}\n\nmpl.figure.prototype.handle_save = function(fig, msg) {\n    fig.ondownload(fig, null);\n}\n\n\nmpl.find_output_cell = function(html_output) {\n    // Return the cell and output element which can be found *uniquely* in the notebook.\n    // Note - this is a bit hacky, but it is done because the \"notebook_saving.Notebook\"\n    // IPython event is triggered only after the cells have been serialised, which for\n    // our purposes (turning an active figure into a static one), is too late.\n    var cells = IPython.notebook.get_cells();\n    var ncells = cells.length;\n    for (var i=0; i<ncells; i++) {\n        var cell = cells[i];\n        if (cell.cell_type === 'code'){\n            for (var j=0; j<cell.output_area.outputs.length; j++) {\n                var data = cell.output_area.outputs[j];\n                if (data.data) {\n                    // IPython >= 3 moved mimebundle to data attribute of output\n                    data = data.data;\n                }\n                if (data['text/html'] == html_output) {\n                    return [cell, data, j];\n                }\n            }\n        }\n    }\n}\n\n// Register the function which deals with the matplotlib target/channel.\n// The kernel may be null if the page has been refreshed.\nif (IPython.notebook.kernel != null) {\n    IPython.notebook.kernel.comm_manager.register_target('matplotlib', mpl.mpl_figure_comm);\n}\n",
      "text/plain": [
       "<IPython.core.display.Javascript object>"
      ]
     },
     "metadata": {},
     "output_type": "display_data"
    },
    {
     "data": {
      "text/html": [
       "<img src=\"data:image/png;base64,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\" width=\"640\">"
      ],
      "text/plain": [
       "<IPython.core.display.HTML object>"
      ]
     },
     "metadata": {},
     "output_type": "display_data"
    },
    {
     "data": {
      "text/plain": [
       "[0, 6, 0, 10]"
      ]
     },
     "execution_count": 13,
     "metadata": {},
     "output_type": "execute_result"
    }
   ],
   "source": [
    "# create a new figure\n",
    "plt.figure()\n",
    "\n",
    "# plot the point (3,2) using the circle marker\n",
    "plt.plot(3, 2, 'o')\n",
    "\n",
    "# get the current axes\n",
    "ax = plt.gca()\n",
    "\n",
    "# Set axis properties [xmin, xmax, ymin, ymax]\n",
    "ax.axis([0,6,0,10])"
   ]
  },
  {
   "cell_type": "code",
   "execution_count": 14,
   "metadata": {
    "collapsed": false
   },
   "outputs": [
    {
     "data": {
      "application/javascript": "/* Put everything inside the global mpl namespace */\nwindow.mpl = {};\n\n\nmpl.get_websocket_type = function() {\n    if (typeof(WebSocket) !== 'undefined') {\n        return WebSocket;\n    } else if (typeof(MozWebSocket) !== 'undefined') {\n        return MozWebSocket;\n    } else {\n        alert('Your browser does not have WebSocket support.' +\n              'Please try Chrome, Safari or Firefox ≥ 6. ' +\n              'Firefox 4 and 5 are also supported but you ' +\n              'have to enable WebSockets in about:config.');\n    };\n}\n\nmpl.figure = function(figure_id, websocket, ondownload, parent_element) {\n    this.id = figure_id;\n\n    this.ws = websocket;\n\n    this.supports_binary = (this.ws.binaryType != undefined);\n\n    if (!this.supports_binary) {\n        var warnings = document.getElementById(\"mpl-warnings\");\n        if (warnings) {\n            warnings.style.display = 'block';\n            warnings.textContent = (\n                \"This browser does not support binary websocket messages. \" +\n                    \"Performance may be slow.\");\n        }\n    }\n\n    this.imageObj = new Image();\n\n    this.context = undefined;\n    this.message = undefined;\n    this.canvas = undefined;\n    this.rubberband_canvas = undefined;\n    this.rubberband_context = undefined;\n    this.format_dropdown = undefined;\n\n    this.image_mode = 'full';\n\n    this.root = $('<div/>');\n    this._root_extra_style(this.root)\n    this.root.attr('style', 'display: inline-block');\n\n    $(parent_element).append(this.root);\n\n    this._init_header(this);\n    this._init_canvas(this);\n    this._init_toolbar(this);\n\n    var fig = this;\n\n    this.waiting = false;\n\n    this.ws.onopen =  function () {\n            fig.send_message(\"supports_binary\", {value: fig.supports_binary});\n            fig.send_message(\"send_image_mode\", {});\n            if (mpl.ratio != 1) {\n                fig.send_message(\"set_dpi_ratio\", {'dpi_ratio': mpl.ratio});\n            }\n            fig.send_message(\"refresh\", {});\n        }\n\n    this.imageObj.onload = function() {\n            if (fig.image_mode == 'full') {\n                // Full images could contain transparency (where diff images\n                // almost always do), so we need to clear the canvas so that\n                // there is no ghosting.\n                fig.context.clearRect(0, 0, fig.canvas.width, fig.canvas.height);\n            }\n            fig.context.drawImage(fig.imageObj, 0, 0);\n        };\n\n    this.imageObj.onunload = function() {\n        this.ws.close();\n    }\n\n    this.ws.onmessage = this._make_on_message_function(this);\n\n    this.ondownload = ondownload;\n}\n\nmpl.figure.prototype._init_header = function() {\n    var titlebar = $(\n        '<div class=\"ui-dialog-titlebar ui-widget-header ui-corner-all ' +\n        'ui-helper-clearfix\"/>');\n    var titletext = $(\n        '<div class=\"ui-dialog-title\" style=\"width: 100%; ' +\n        'text-align: center; padding: 3px;\"/>');\n    titlebar.append(titletext)\n    this.root.append(titlebar);\n    this.header = titletext[0];\n}\n\n\n\nmpl.figure.prototype._canvas_extra_style = function(canvas_div) {\n\n}\n\n\nmpl.figure.prototype._root_extra_style = function(canvas_div) {\n\n}\n\nmpl.figure.prototype._init_canvas = function() {\n    var fig = this;\n\n    var canvas_div = $('<div/>');\n\n    canvas_div.attr('style', 'position: relative; clear: both; outline: 0');\n\n    function canvas_keyboard_event(event) {\n        return fig.key_event(event, event['data']);\n    }\n\n    canvas_div.keydown('key_press', canvas_keyboard_event);\n    canvas_div.keyup('key_release', canvas_keyboard_event);\n    this.canvas_div = canvas_div\n    this._canvas_extra_style(canvas_div)\n    this.root.append(canvas_div);\n\n    var canvas = $('<canvas/>');\n    canvas.addClass('mpl-canvas');\n    canvas.attr('style', \"left: 0; top: 0; z-index: 0; outline: 0\")\n\n    this.canvas = canvas[0];\n    this.context = canvas[0].getContext(\"2d\");\n\n    var backingStore = this.context.backingStorePixelRatio ||\n\tthis.context.webkitBackingStorePixelRatio ||\n\tthis.context.mozBackingStorePixelRatio ||\n\tthis.context.msBackingStorePixelRatio ||\n\tthis.context.oBackingStorePixelRatio ||\n\tthis.context.backingStorePixelRatio || 1;\n\n    mpl.ratio = (window.devicePixelRatio || 1) / backingStore;\n\n    var rubberband = $('<canvas/>');\n    rubberband.attr('style', \"position: absolute; left: 0; top: 0; z-index: 1;\")\n\n    var pass_mouse_events = true;\n\n    canvas_div.resizable({\n        start: function(event, ui) {\n            pass_mouse_events = false;\n        },\n        resize: function(event, ui) {\n            fig.request_resize(ui.size.width, ui.size.height);\n        },\n        stop: function(event, ui) {\n            pass_mouse_events = true;\n            fig.request_resize(ui.size.width, ui.size.height);\n        },\n    });\n\n    function mouse_event_fn(event) {\n        if (pass_mouse_events)\n            return fig.mouse_event(event, event['data']);\n    }\n\n    rubberband.mousedown('button_press', mouse_event_fn);\n    rubberband.mouseup('button_release', mouse_event_fn);\n    // Throttle sequential mouse events to 1 every 20ms.\n    rubberband.mousemove('motion_notify', mouse_event_fn);\n\n    rubberband.mouseenter('figure_enter', mouse_event_fn);\n    rubberband.mouseleave('figure_leave', mouse_event_fn);\n\n    canvas_div.on(\"wheel\", function (event) {\n        event = event.originalEvent;\n        event['data'] = 'scroll'\n        if (event.deltaY < 0) {\n            event.step = 1;\n        } else {\n            event.step = -1;\n        }\n        mouse_event_fn(event);\n    });\n\n    canvas_div.append(canvas);\n    canvas_div.append(rubberband);\n\n    this.rubberband = rubberband;\n    this.rubberband_canvas = rubberband[0];\n    this.rubberband_context = rubberband[0].getContext(\"2d\");\n    this.rubberband_context.strokeStyle = \"#000000\";\n\n    this._resize_canvas = function(width, height) {\n        // Keep the size of the canvas, canvas container, and rubber band\n        // canvas in synch.\n        canvas_div.css('width', width)\n        canvas_div.css('height', height)\n\n        canvas.attr('width', width * mpl.ratio);\n        canvas.attr('height', height * mpl.ratio);\n        canvas.attr('style', 'width: ' + width + 'px; height: ' + height + 'px;');\n\n        rubberband.attr('width', width);\n        rubberband.attr('height', height);\n    }\n\n    // Set the figure to an initial 600x600px, this will subsequently be updated\n    // upon first draw.\n    this._resize_canvas(600, 600);\n\n    // Disable right mouse context menu.\n    $(this.rubberband_canvas).bind(\"contextmenu\",function(e){\n        return false;\n    });\n\n    function set_focus () {\n        canvas.focus();\n        canvas_div.focus();\n    }\n\n    window.setTimeout(set_focus, 100);\n}\n\nmpl.figure.prototype._init_toolbar = function() {\n    var fig = this;\n\n    var nav_element = $('<div/>')\n    nav_element.attr('style', 'width: 100%');\n    this.root.append(nav_element);\n\n    // Define a callback function for later on.\n    function toolbar_event(event) {\n        return fig.toolbar_button_onclick(event['data']);\n    }\n    function toolbar_mouse_event(event) {\n        return fig.toolbar_button_onmouseover(event['data']);\n    }\n\n    for(var toolbar_ind in mpl.toolbar_items) {\n        var name = mpl.toolbar_items[toolbar_ind][0];\n        var tooltip = mpl.toolbar_items[toolbar_ind][1];\n        var image = mpl.toolbar_items[toolbar_ind][2];\n        var method_name = mpl.toolbar_items[toolbar_ind][3];\n\n        if (!name) {\n            // put a spacer in here.\n            continue;\n        }\n        var button = $('<button/>');\n        button.addClass('ui-button ui-widget ui-state-default ui-corner-all ' +\n                        'ui-button-icon-only');\n        button.attr('role', 'button');\n        button.attr('aria-disabled', 'false');\n        button.click(method_name, toolbar_event);\n        button.mouseover(tooltip, toolbar_mouse_event);\n\n        var icon_img = $('<span/>');\n        icon_img.addClass('ui-button-icon-primary ui-icon');\n        icon_img.addClass(image);\n        icon_img.addClass('ui-corner-all');\n\n        var tooltip_span = $('<span/>');\n        tooltip_span.addClass('ui-button-text');\n        tooltip_span.html(tooltip);\n\n        button.append(icon_img);\n        button.append(tooltip_span);\n\n        nav_element.append(button);\n    }\n\n    var fmt_picker_span = $('<span/>');\n\n    var fmt_picker = $('<select/>');\n    fmt_picker.addClass('mpl-toolbar-option ui-widget ui-widget-content');\n    fmt_picker_span.append(fmt_picker);\n    nav_element.append(fmt_picker_span);\n    this.format_dropdown = fmt_picker[0];\n\n    for (var ind in mpl.extensions) {\n        var fmt = mpl.extensions[ind];\n        var option = $(\n            '<option/>', {selected: fmt === mpl.default_extension}).html(fmt);\n        fmt_picker.append(option)\n    }\n\n    // Add hover states to the ui-buttons\n    $( \".ui-button\" ).hover(\n        function() { $(this).addClass(\"ui-state-hover\");},\n        function() { $(this).removeClass(\"ui-state-hover\");}\n    );\n\n    var status_bar = $('<span class=\"mpl-message\"/>');\n    nav_element.append(status_bar);\n    this.message = status_bar[0];\n}\n\nmpl.figure.prototype.request_resize = function(x_pixels, y_pixels) {\n    // Request matplotlib to resize the figure. Matplotlib will then trigger a resize in the client,\n    // which will in turn request a refresh of the image.\n    this.send_message('resize', {'width': x_pixels, 'height': y_pixels});\n}\n\nmpl.figure.prototype.send_message = function(type, properties) {\n    properties['type'] = type;\n    properties['figure_id'] = this.id;\n    this.ws.send(JSON.stringify(properties));\n}\n\nmpl.figure.prototype.send_draw_message = function() {\n    if (!this.waiting) {\n        this.waiting = true;\n        this.ws.send(JSON.stringify({type: \"draw\", figure_id: this.id}));\n    }\n}\n\n\nmpl.figure.prototype.handle_save = function(fig, msg) {\n    var format_dropdown = fig.format_dropdown;\n    var format = format_dropdown.options[format_dropdown.selectedIndex].value;\n    fig.ondownload(fig, format);\n}\n\n\nmpl.figure.prototype.handle_resize = function(fig, msg) {\n    var size = msg['size'];\n    if (size[0] != fig.canvas.width || size[1] != fig.canvas.height) {\n        fig._resize_canvas(size[0], size[1]);\n        fig.send_message(\"refresh\", {});\n    };\n}\n\nmpl.figure.prototype.handle_rubberband = function(fig, msg) {\n    var x0 = msg['x0'] / mpl.ratio;\n    var y0 = (fig.canvas.height - msg['y0']) / mpl.ratio;\n    var x1 = msg['x1'] / mpl.ratio;\n    var y1 = (fig.canvas.height - msg['y1']) / mpl.ratio;\n    x0 = Math.floor(x0) + 0.5;\n    y0 = Math.floor(y0) + 0.5;\n    x1 = Math.floor(x1) + 0.5;\n    y1 = Math.floor(y1) + 0.5;\n    var min_x = Math.min(x0, x1);\n    var min_y = Math.min(y0, y1);\n    var width = Math.abs(x1 - x0);\n    var height = Math.abs(y1 - y0);\n\n    fig.rubberband_context.clearRect(\n        0, 0, fig.canvas.width, fig.canvas.height);\n\n    fig.rubberband_context.strokeRect(min_x, min_y, width, height);\n}\n\nmpl.figure.prototype.handle_figure_label = function(fig, msg) {\n    // Updates the figure title.\n    fig.header.textContent = msg['label'];\n}\n\nmpl.figure.prototype.handle_cursor = function(fig, msg) {\n    var cursor = msg['cursor'];\n    switch(cursor)\n    {\n    case 0:\n        cursor = 'pointer';\n        break;\n    case 1:\n        cursor = 'default';\n        break;\n    case 2:\n        cursor = 'crosshair';\n        break;\n    case 3:\n        cursor = 'move';\n        break;\n    }\n    fig.rubberband_canvas.style.cursor = cursor;\n}\n\nmpl.figure.prototype.handle_message = function(fig, msg) {\n    fig.message.textContent = msg['message'];\n}\n\nmpl.figure.prototype.handle_draw = function(fig, msg) {\n    // Request the server to send over a new figure.\n    fig.send_draw_message();\n}\n\nmpl.figure.prototype.handle_image_mode = function(fig, msg) {\n    fig.image_mode = msg['mode'];\n}\n\nmpl.figure.prototype.updated_canvas_event = function() {\n    // Called whenever the canvas gets updated.\n    this.send_message(\"ack\", {});\n}\n\n// A function to construct a web socket function for onmessage handling.\n// Called in the figure constructor.\nmpl.figure.prototype._make_on_message_function = function(fig) {\n    return function socket_on_message(evt) {\n        if (evt.data instanceof Blob) {\n            /* FIXME: We get \"Resource interpreted as Image but\n             * transferred with MIME type text/plain:\" errors on\n             * Chrome.  But how to set the MIME type?  It doesn't seem\n             * to be part of the websocket stream */\n            evt.data.type = \"image/png\";\n\n            /* Free the memory for the previous frames */\n            if (fig.imageObj.src) {\n                (window.URL || window.webkitURL).revokeObjectURL(\n                    fig.imageObj.src);\n            }\n\n            fig.imageObj.src = (window.URL || window.webkitURL).createObjectURL(\n                evt.data);\n            fig.updated_canvas_event();\n            fig.waiting = false;\n            return;\n        }\n        else if (typeof evt.data === 'string' && evt.data.slice(0, 21) == \"data:image/png;base64\") {\n            fig.imageObj.src = evt.data;\n            fig.updated_canvas_event();\n            fig.waiting = false;\n            return;\n        }\n\n        var msg = JSON.parse(evt.data);\n        var msg_type = msg['type'];\n\n        // Call the  \"handle_{type}\" callback, which takes\n        // the figure and JSON message as its only arguments.\n        try {\n            var callback = fig[\"handle_\" + msg_type];\n        } catch (e) {\n            console.log(\"No handler for the '\" + msg_type + \"' message type: \", msg);\n            return;\n        }\n\n        if (callback) {\n            try {\n                // console.log(\"Handling '\" + msg_type + \"' message: \", msg);\n                callback(fig, msg);\n            } catch (e) {\n                console.log(\"Exception inside the 'handler_\" + msg_type + \"' callback:\", e, e.stack, msg);\n            }\n        }\n    };\n}\n\n// from http://stackoverflow.com/questions/1114465/getting-mouse-location-in-canvas\nmpl.findpos = function(e) {\n    //this section is from http://www.quirksmode.org/js/events_properties.html\n    var targ;\n    if (!e)\n        e = window.event;\n    if (e.target)\n        targ = e.target;\n    else if (e.srcElement)\n        targ = e.srcElement;\n    if (targ.nodeType == 3) // defeat Safari bug\n        targ = targ.parentNode;\n\n    // jQuery normalizes the pageX and pageY\n    // pageX,Y are the mouse positions relative to the document\n    // offset() returns the position of the element relative to the document\n    var x = e.pageX - $(targ).offset().left;\n    var y = e.pageY - $(targ).offset().top;\n\n    return {\"x\": x, \"y\": y};\n};\n\n/*\n * return a copy of an object with only non-object keys\n * we need this to avoid circular references\n * http://stackoverflow.com/a/24161582/3208463\n */\nfunction simpleKeys (original) {\n  return Object.keys(original).reduce(function (obj, key) {\n    if (typeof original[key] !== 'object')\n        obj[key] = original[key]\n    return obj;\n  }, {});\n}\n\nmpl.figure.prototype.mouse_event = function(event, name) {\n    var canvas_pos = mpl.findpos(event)\n\n    if (name === 'button_press')\n    {\n        this.canvas.focus();\n        this.canvas_div.focus();\n    }\n\n    var x = canvas_pos.x * mpl.ratio;\n    var y = canvas_pos.y * mpl.ratio;\n\n    this.send_message(name, {x: x, y: y, button: event.button,\n                             step: event.step,\n                             guiEvent: simpleKeys(event)});\n\n    /* This prevents the web browser from automatically changing to\n     * the text insertion cursor when the button is pressed.  We want\n     * to control all of the cursor setting manually through the\n     * 'cursor' event from matplotlib */\n    event.preventDefault();\n    return false;\n}\n\nmpl.figure.prototype._key_event_extra = function(event, name) {\n    // Handle any extra behaviour associated with a key event\n}\n\nmpl.figure.prototype.key_event = function(event, name) {\n\n    // Prevent repeat events\n    if (name == 'key_press')\n    {\n        if (event.which === this._key)\n            return;\n        else\n            this._key = event.which;\n    }\n    if (name == 'key_release')\n        this._key = null;\n\n    var value = '';\n    if (event.ctrlKey && event.which != 17)\n        value += \"ctrl+\";\n    if (event.altKey && event.which != 18)\n        value += \"alt+\";\n    if (event.shiftKey && event.which != 16)\n        value += \"shift+\";\n\n    value += 'k';\n    value += event.which.toString();\n\n    this._key_event_extra(event, name);\n\n    this.send_message(name, {key: value,\n                             guiEvent: simpleKeys(event)});\n    return false;\n}\n\nmpl.figure.prototype.toolbar_button_onclick = function(name) {\n    if (name == 'download') {\n        this.handle_save(this, null);\n    } else {\n        this.send_message(\"toolbar_button\", {name: name});\n    }\n};\n\nmpl.figure.prototype.toolbar_button_onmouseover = function(tooltip) {\n    this.message.textContent = tooltip;\n};\nmpl.toolbar_items = [[\"Home\", \"Reset original view\", \"fa fa-home icon-home\", \"home\"], [\"Back\", \"Back to  previous view\", \"fa fa-arrow-left icon-arrow-left\", \"back\"], [\"Forward\", \"Forward to next view\", \"fa fa-arrow-right icon-arrow-right\", \"forward\"], [\"\", \"\", \"\", \"\"], [\"Pan\", \"Pan axes with left mouse, zoom with right\", \"fa fa-arrows icon-move\", \"pan\"], [\"Zoom\", \"Zoom to rectangle\", \"fa fa-square-o icon-check-empty\", \"zoom\"], [\"\", \"\", \"\", \"\"], [\"Download\", \"Download plot\", \"fa fa-floppy-o icon-save\", \"download\"]];\n\nmpl.extensions = [\"eps\", \"jpeg\", \"pdf\", \"png\", \"ps\", \"raw\", \"svg\", \"tif\"];\n\nmpl.default_extension = \"png\";var comm_websocket_adapter = function(comm) {\n    // Create a \"websocket\"-like object which calls the given IPython comm\n    // object with the appropriate methods. Currently this is a non binary\n    // socket, so there is still some room for performance tuning.\n    var ws = {};\n\n    ws.close = function() {\n        comm.close()\n    };\n    ws.send = function(m) {\n        //console.log('sending', m);\n        comm.send(m);\n    };\n    // Register the callback with on_msg.\n    comm.on_msg(function(msg) {\n        //console.log('receiving', msg['content']['data'], msg);\n        // Pass the mpl event to the overriden (by mpl) onmessage function.\n        ws.onmessage(msg['content']['data'])\n    });\n    return ws;\n}\n\nmpl.mpl_figure_comm = function(comm, msg) {\n    // This is the function which gets called when the mpl process\n    // starts-up an IPython Comm through the \"matplotlib\" channel.\n\n    var id = msg.content.data.id;\n    // Get hold of the div created by the display call when the Comm\n    // socket was opened in Python.\n    var element = $(\"#\" + id);\n    var ws_proxy = comm_websocket_adapter(comm)\n\n    function ondownload(figure, format) {\n        window.open(figure.imageObj.src);\n    }\n\n    var fig = new mpl.figure(id, ws_proxy,\n                           ondownload,\n                           element.get(0));\n\n    // Call onopen now - mpl needs it, as it is assuming we've passed it a real\n    // web socket which is closed, not our websocket->open comm proxy.\n    ws_proxy.onopen();\n\n    fig.parent_element = element.get(0);\n    fig.cell_info = mpl.find_output_cell(\"<div id='\" + id + \"'></div>\");\n    if (!fig.cell_info) {\n        console.error(\"Failed to find cell for figure\", id, fig);\n        return;\n    }\n\n    var output_index = fig.cell_info[2]\n    var cell = fig.cell_info[0];\n\n};\n\nmpl.figure.prototype.handle_close = function(fig, msg) {\n    var width = fig.canvas.width/mpl.ratio\n    fig.root.unbind('remove')\n\n    // Update the output cell to use the data from the current canvas.\n    fig.push_to_output();\n    var dataURL = fig.canvas.toDataURL();\n    // Re-enable the keyboard manager in IPython - without this line, in FF,\n    // the notebook keyboard shortcuts fail.\n    IPython.keyboard_manager.enable()\n    $(fig.parent_element).html('<img src=\"' + dataURL + '\" width=\"' + width + '\">');\n    fig.close_ws(fig, msg);\n}\n\nmpl.figure.prototype.close_ws = function(fig, msg){\n    fig.send_message('closing', msg);\n    // fig.ws.close()\n}\n\nmpl.figure.prototype.push_to_output = function(remove_interactive) {\n    // Turn the data on the canvas into data in the output cell.\n    var width = this.canvas.width/mpl.ratio\n    var dataURL = this.canvas.toDataURL();\n    this.cell_info[1]['text/html'] = '<img src=\"' + dataURL + '\" width=\"' + width + '\">';\n}\n\nmpl.figure.prototype.updated_canvas_event = function() {\n    // Tell IPython that the notebook contents must change.\n    IPython.notebook.set_dirty(true);\n    this.send_message(\"ack\", {});\n    var fig = this;\n    // Wait a second, then push the new image to the DOM so\n    // that it is saved nicely (might be nice to debounce this).\n    setTimeout(function () { fig.push_to_output() }, 1000);\n}\n\nmpl.figure.prototype._init_toolbar = function() {\n    var fig = this;\n\n    var nav_element = $('<div/>')\n    nav_element.attr('style', 'width: 100%');\n    this.root.append(nav_element);\n\n    // Define a callback function for later on.\n    function toolbar_event(event) {\n        return fig.toolbar_button_onclick(event['data']);\n    }\n    function toolbar_mouse_event(event) {\n        return fig.toolbar_button_onmouseover(event['data']);\n    }\n\n    for(var toolbar_ind in mpl.toolbar_items){\n        var name = mpl.toolbar_items[toolbar_ind][0];\n        var tooltip = mpl.toolbar_items[toolbar_ind][1];\n        var image = mpl.toolbar_items[toolbar_ind][2];\n        var method_name = mpl.toolbar_items[toolbar_ind][3];\n\n        if (!name) { continue; };\n\n        var button = $('<button class=\"btn btn-default\" href=\"#\" title=\"' + name + '\"><i class=\"fa ' + image + ' fa-lg\"></i></button>');\n        button.click(method_name, toolbar_event);\n        button.mouseover(tooltip, toolbar_mouse_event);\n        nav_element.append(button);\n    }\n\n    // Add the status bar.\n    var status_bar = $('<span class=\"mpl-message\" style=\"text-align:right; float: right;\"/>');\n    nav_element.append(status_bar);\n    this.message = status_bar[0];\n\n    // Add the close button to the window.\n    var buttongrp = $('<div class=\"btn-group inline pull-right\"></div>');\n    var button = $('<button class=\"btn btn-mini btn-primary\" href=\"#\" title=\"Stop Interaction\"><i class=\"fa fa-power-off icon-remove icon-large\"></i></button>');\n    button.click(function (evt) { fig.handle_close(fig, {}); } );\n    button.mouseover('Stop Interaction', toolbar_mouse_event);\n    buttongrp.append(button);\n    var titlebar = this.root.find($('.ui-dialog-titlebar'));\n    titlebar.prepend(buttongrp);\n}\n\nmpl.figure.prototype._root_extra_style = function(el){\n    var fig = this\n    el.on(\"remove\", function(){\n\tfig.close_ws(fig, {});\n    });\n}\n\nmpl.figure.prototype._canvas_extra_style = function(el){\n    // this is important to make the div 'focusable\n    el.attr('tabindex', 0)\n    // reach out to IPython and tell the keyboard manager to turn it's self\n    // off when our div gets focus\n\n    // location in version 3\n    if (IPython.notebook.keyboard_manager) {\n        IPython.notebook.keyboard_manager.register_events(el);\n    }\n    else {\n        // location in version 2\n        IPython.keyboard_manager.register_events(el);\n    }\n\n}\n\nmpl.figure.prototype._key_event_extra = function(event, name) {\n    var manager = IPython.notebook.keyboard_manager;\n    if (!manager)\n        manager = IPython.keyboard_manager;\n\n    // Check for shift+enter\n    if (event.shiftKey && event.which == 13) {\n        this.canvas_div.blur();\n        // select the cell after this one\n        var index = IPython.notebook.find_cell_index(this.cell_info[0]);\n        IPython.notebook.select(index + 1);\n    }\n}\n\nmpl.figure.prototype.handle_save = function(fig, msg) {\n    fig.ondownload(fig, null);\n}\n\n\nmpl.find_output_cell = function(html_output) {\n    // Return the cell and output element which can be found *uniquely* in the notebook.\n    // Note - this is a bit hacky, but it is done because the \"notebook_saving.Notebook\"\n    // IPython event is triggered only after the cells have been serialised, which for\n    // our purposes (turning an active figure into a static one), is too late.\n    var cells = IPython.notebook.get_cells();\n    var ncells = cells.length;\n    for (var i=0; i<ncells; i++) {\n        var cell = cells[i];\n        if (cell.cell_type === 'code'){\n            for (var j=0; j<cell.output_area.outputs.length; j++) {\n                var data = cell.output_area.outputs[j];\n                if (data.data) {\n                    // IPython >= 3 moved mimebundle to data attribute of output\n                    data = data.data;\n                }\n                if (data['text/html'] == html_output) {\n                    return [cell, data, j];\n                }\n            }\n        }\n    }\n}\n\n// Register the function which deals with the matplotlib target/channel.\n// The kernel may be null if the page has been refreshed.\nif (IPython.notebook.kernel != null) {\n    IPython.notebook.kernel.comm_manager.register_target('matplotlib', mpl.mpl_figure_comm);\n}\n",
      "text/plain": [
       "<IPython.core.display.Javascript object>"
      ]
     },
     "metadata": {},
     "output_type": "display_data"
    },
    {
     "data": {
      "text/html": [
       "<img src=\"data:image/png;base64,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\" width=\"640\">"
      ],
      "text/plain": [
       "<IPython.core.display.HTML object>"
      ]
     },
     "metadata": {},
     "output_type": "display_data"
    },
    {
     "data": {
      "text/plain": [
       "[<matplotlib.lines.Line2D at 0x7f6824cdbe80>]"
      ]
     },
     "execution_count": 14,
     "metadata": {},
     "output_type": "execute_result"
    }
   ],
   "source": [
    "# create a new figure\n",
    "plt.figure()\n",
    "\n",
    "# plot the point (1.5, 1.5) using the circle marker\n",
    "plt.plot(1.5, 1.5, 'o')\n",
    "# plot the point (2, 2) using the circle marker \n",
    "plt.plot(2, 2, 'o')\n",
    "# plot the point (2.5, 2.5) using the circle marker\n",
    "plt.plot(2.5, 2.5, 'o')"
   ]
  },
  {
   "cell_type": "code",
   "execution_count": 15,
   "metadata": {
    "collapsed": false
   },
   "outputs": [
    {
     "data": {
      "text/plain": [
       "[<matplotlib.lines.Line2D at 0x7f6824cdb588>,\n",
       " <matplotlib.lines.Line2D at 0x7f6824d76358>,\n",
       " <matplotlib.lines.Line2D at 0x7f6824cdbe80>,\n",
       " <matplotlib.spines.Spine at 0x7f6824d64080>,\n",
       " <matplotlib.spines.Spine at 0x7f6824d642e8>,\n",
       " <matplotlib.spines.Spine at 0x7f6824d64b00>,\n",
       " <matplotlib.spines.Spine at 0x7f6824d641d0>,\n",
       " <matplotlib.axis.XAxis at 0x7f6824d8bef0>,\n",
       " <matplotlib.axis.YAxis at 0x7f6824d582e8>,\n",
       " <matplotlib.text.Text at 0x7f6824d29b70>,\n",
       " <matplotlib.text.Text at 0x7f6824d29be0>,\n",
       " <matplotlib.text.Text at 0x7f6824d29c50>,\n",
       " <matplotlib.patches.Rectangle at 0x7f6824d29c88>]"
      ]
     },
     "execution_count": 15,
     "metadata": {},
     "output_type": "execute_result"
    }
   ],
   "source": [
    "# get current axes\n",
    "ax = plt.gca()\n",
    "# get all the child objects the axes contains\n",
    "ax.get_children()"
   ]
  },
  {
   "cell_type": "markdown",
   "metadata": {},
   "source": [
    "# Scatterplots"
   ]
  },
  {
   "cell_type": "code",
   "execution_count": null,
   "metadata": {
    "collapsed": false,
    "scrolled": false
   },
   "outputs": [],
   "source": [
    "import numpy as np\n",
    "\n",
    "x = np.array([1,2,3,4,5,6,7,8])\n",
    "y = x\n",
    "\n",
    "plt.figure()\n",
    "plt.scatter(x, y) # similar to plt.plot(x, y, '.'), but the underlying child objects in the axes are not Line2D"
   ]
  },
  {
   "cell_type": "code",
   "execution_count": null,
   "metadata": {
    "collapsed": false
   },
   "outputs": [],
   "source": [
    "import numpy as np\n",
    "\n",
    "x = np.array([1,2,3,4,5,6,7,8])\n",
    "y = x\n",
    "\n",
    "# create a list of colors for each point to have\n",
    "# ['green', 'green', 'green', 'green', 'green', 'green', 'green', 'red']\n",
    "colors = ['green']*(len(x)-1)\n",
    "colors.append('red')\n",
    "\n",
    "plt.figure()\n",
    "\n",
    "# plot the point with size 100 and chosen colors\n",
    "plt.scatter(x, y, s=100, c=colors)"
   ]
  },
  {
   "cell_type": "code",
   "execution_count": null,
   "metadata": {
    "collapsed": false
   },
   "outputs": [],
   "source": [
    "# convert the two lists into a list of pairwise tuples\n",
    "zip_generator = zip([1,2,3,4,5], [6,7,8,9,10])\n",
    "\n",
    "print(list(zip_generator))\n",
    "# the above prints:\n",
    "# [(1, 6), (2, 7), (3, 8), (4, 9), (5, 10)]\n",
    "\n",
    "zip_generator = zip([1,2,3,4,5], [6,7,8,9,10])\n",
    "# The single star * unpacks a collection into positional arguments\n",
    "print(*zip_generator)\n",
    "# the above prints:\n",
    "# (1, 6) (2, 7) (3, 8) (4, 9) (5, 10)"
   ]
  },
  {
   "cell_type": "code",
   "execution_count": null,
   "metadata": {
    "collapsed": false
   },
   "outputs": [],
   "source": [
    "# use zip to convert 5 tuples with 2 elements each to 2 tuples with 5 elements each\n",
    "print(list(zip((1, 6), (2, 7), (3, 8), (4, 9), (5, 10))))\n",
    "# the above prints:\n",
    "# [(1, 2, 3, 4, 5), (6, 7, 8, 9, 10)]\n",
    "\n",
    "\n",
    "zip_generator = zip([1,2,3,4,5], [6,7,8,9,10])\n",
    "# let's turn the data back into 2 lists\n",
    "x, y = zip(*zip_generator) # This is like calling zip((1, 6), (2, 7), (3, 8), (4, 9), (5, 10))\n",
    "print(x)\n",
    "print(y)\n",
    "# the above prints:\n",
    "# (1, 2, 3, 4, 5)\n",
    "# (6, 7, 8, 9, 10)"
   ]
  },
  {
   "cell_type": "code",
   "execution_count": null,
   "metadata": {
    "collapsed": false
   },
   "outputs": [],
   "source": [
    "plt.figure()\n",
    "# plot a data series 'Tall students' in red using the first two elements of x and y\n",
    "plt.scatter(x[:2], y[:2], s=100, c='red', label='Tall students')\n",
    "# plot a second data series 'Short students' in blue using the last three elements of x and y \n",
    "plt.scatter(x[2:], y[2:], s=100, c='blue', label='Short students')"
   ]
  },
  {
   "cell_type": "code",
   "execution_count": null,
   "metadata": {
    "collapsed": false
   },
   "outputs": [],
   "source": [
    "# add a label to the x axis\n",
    "plt.xlabel('The number of times the child kicked a ball')\n",
    "# add a label to the y axis\n",
    "plt.ylabel('The grade of the student')\n",
    "# add a title\n",
    "plt.title('Relationship between ball kicking and grades')"
   ]
  },
  {
   "cell_type": "code",
   "execution_count": null,
   "metadata": {
    "collapsed": false
   },
   "outputs": [],
   "source": [
    "# add a legend (uses the labels from plt.scatter)\n",
    "plt.legend()"
   ]
  },
  {
   "cell_type": "code",
   "execution_count": null,
   "metadata": {
    "collapsed": false
   },
   "outputs": [],
   "source": [
    "# add the legend to loc=4 (the lower right hand corner), also gets rid of the frame and adds a title\n",
    "plt.legend(loc=4, frameon=False, title='Legend')"
   ]
  },
  {
   "cell_type": "code",
   "execution_count": null,
   "metadata": {
    "collapsed": false
   },
   "outputs": [],
   "source": [
    "# get children from current axes (the legend is the second to last item in this list)\n",
    "plt.gca().get_children()"
   ]
  },
  {
   "cell_type": "code",
   "execution_count": null,
   "metadata": {
    "collapsed": true
   },
   "outputs": [],
   "source": [
    "# get the legend from the current axes\n",
    "legend = plt.gca().get_children()[-2]"
   ]
  },
  {
   "cell_type": "code",
   "execution_count": null,
   "metadata": {
    "collapsed": false
   },
   "outputs": [],
   "source": [
    "# you can use get_children to navigate through the child artists\n",
    "legend.get_children()[0].get_children()[1].get_children()[0].get_children()"
   ]
  },
  {
   "cell_type": "code",
   "execution_count": null,
   "metadata": {
    "collapsed": false
   },
   "outputs": [],
   "source": [
    "# import the artist class from matplotlib\n",
    "from matplotlib.artist import Artist\n",
    "\n",
    "def rec_gc(art, depth=0):\n",
    "    if isinstance(art, Artist):\n",
    "        # increase the depth for pretty printing\n",
    "        print(\"  \" * depth + str(art))\n",
    "        for child in art.get_children():\n",
    "            rec_gc(child, depth+2)\n",
    "\n",
    "# Call this function on the legend artist to see what the legend is made up of\n",
    "rec_gc(plt.legend())"
   ]
  },
  {
   "cell_type": "markdown",
   "metadata": {},
   "source": [
    "# Line Plots"
   ]
  },
  {
   "cell_type": "code",
   "execution_count": null,
   "metadata": {
    "collapsed": false
   },
   "outputs": [],
   "source": [
    "import numpy as np\n",
    "\n",
    "linear_data = np.array([1,2,3,4,5,6,7,8])\n",
    "exponential_data = linear_data**2\n",
    "\n",
    "plt.figure()\n",
    "# plot the linear data and the exponential data\n",
    "plt.plot(linear_data, '-o', exponential_data, '-o')"
   ]
  },
  {
   "cell_type": "code",
   "execution_count": null,
   "metadata": {
    "collapsed": false
   },
   "outputs": [],
   "source": [
    "# plot another series with a dashed red line\n",
    "plt.plot([22,44,55], '--r')"
   ]
  },
  {
   "cell_type": "code",
   "execution_count": null,
   "metadata": {
    "collapsed": false
   },
   "outputs": [],
   "source": [
    "plt.xlabel('Some data')\n",
    "plt.ylabel('Some other data')\n",
    "plt.title('A title')\n",
    "# add a legend with legend entries (because we didn't have labels when we plotted the data series)\n",
    "plt.legend(['Baseline', 'Competition', 'Us'])"
   ]
  },
  {
   "cell_type": "code",
   "execution_count": null,
   "metadata": {
    "collapsed": false
   },
   "outputs": [],
   "source": [
    "# fill the area between the linear data and exponential data\n",
    "plt.gca().fill_between(range(len(linear_data)), \n",
    "                       linear_data, exponential_data, \n",
    "                       facecolor='blue', \n",
    "                       alpha=0.25)"
   ]
  },
  {
   "cell_type": "markdown",
   "metadata": {},
   "source": [
    "Let's try working with dates!"
   ]
  },
  {
   "cell_type": "code",
   "execution_count": null,
   "metadata": {
    "collapsed": false
   },
   "outputs": [],
   "source": [
    "plt.figure()\n",
    "\n",
    "observation_dates = np.arange('2017-01-01', '2017-01-09', dtype='datetime64[D]')\n",
    "\n",
    "plt.plot(observation_dates, linear_data, '-o',  observation_dates, exponential_data, '-o')"
   ]
  },
  {
   "cell_type": "markdown",
   "metadata": {},
   "source": [
    "Let's try using pandas"
   ]
  },
  {
   "cell_type": "code",
   "execution_count": null,
   "metadata": {
    "collapsed": false
   },
   "outputs": [],
   "source": [
    "import pandas as pd\n",
    "\n",
    "plt.figure()\n",
    "observation_dates = np.arange('2017-01-01', '2017-01-09', dtype='datetime64[D]')\n",
    "observation_dates = map(pd.to_datetime, observation_dates) # trying to plot a map will result in an error\n",
    "plt.plot(observation_dates, linear_data, '-o',  observation_dates, exponential_data, '-o')"
   ]
  },
  {
   "cell_type": "code",
   "execution_count": null,
   "metadata": {
    "collapsed": false
   },
   "outputs": [],
   "source": [
    "plt.figure()\n",
    "observation_dates = np.arange('2017-01-01', '2017-01-09', dtype='datetime64[D]')\n",
    "observation_dates = list(map(pd.to_datetime, observation_dates)) # convert the map to a list to get rid of the error\n",
    "plt.plot(observation_dates, linear_data, '-o',  observation_dates, exponential_data, '-o')"
   ]
  },
  {
   "cell_type": "code",
   "execution_count": null,
   "metadata": {
    "collapsed": false
   },
   "outputs": [],
   "source": [
    "x = plt.gca().xaxis\n",
    "\n",
    "# rotate the tick labels for the x axis\n",
    "for item in x.get_ticklabels():\n",
    "    item.set_rotation(45)"
   ]
  },
  {
   "cell_type": "code",
   "execution_count": null,
   "metadata": {
    "collapsed": false
   },
   "outputs": [],
   "source": [
    "# adjust the subplot so the text doesn't run off the image\n",
    "plt.subplots_adjust(bottom=0.25)"
   ]
  },
  {
   "cell_type": "code",
   "execution_count": null,
   "metadata": {
    "collapsed": false
   },
   "outputs": [],
   "source": [
    "ax = plt.gca()\n",
    "ax.set_xlabel('Date')\n",
    "ax.set_ylabel('Units')\n",
    "ax.set_title('Exponential vs. Linear performance')"
   ]
  },
  {
   "cell_type": "code",
   "execution_count": null,
   "metadata": {
    "collapsed": false
   },
   "outputs": [],
   "source": [
    "# you can add mathematical expressions in any text element\n",
    "ax.set_title(\"Exponential ($x^2$) vs. Linear ($x$) performance\")"
   ]
  },
  {
   "cell_type": "markdown",
   "metadata": {},
   "source": [
    "# Bar Charts"
   ]
  },
  {
   "cell_type": "code",
   "execution_count": null,
   "metadata": {
    "collapsed": false
   },
   "outputs": [],
   "source": [
    "plt.figure()\n",
    "xvals = range(len(linear_data))\n",
    "plt.bar(xvals, linear_data, width = 0.3)"
   ]
  },
  {
   "cell_type": "code",
   "execution_count": null,
   "metadata": {
    "collapsed": false
   },
   "outputs": [],
   "source": [
    "new_xvals = []\n",
    "\n",
    "# plot another set of bars, adjusting the new xvals to make up for the first set of bars plotted\n",
    "for item in xvals:\n",
    "    new_xvals.append(item+0.3)\n",
    "\n",
    "plt.bar(new_xvals, exponential_data, width = 0.3 ,color='red')"
   ]
  },
  {
   "cell_type": "code",
   "execution_count": null,
   "metadata": {
    "collapsed": false,
    "scrolled": true
   },
   "outputs": [],
   "source": [
    "from random import randint\n",
    "linear_err = [randint(0,15) for x in range(len(linear_data))] \n",
    "\n",
    "# This will plot a new set of bars with errorbars using the list of random error values\n",
    "plt.bar(xvals, linear_data, width = 0.3, yerr=linear_err)"
   ]
  },
  {
   "cell_type": "code",
   "execution_count": null,
   "metadata": {
    "collapsed": false
   },
   "outputs": [],
   "source": [
    "# stacked bar charts are also possible\n",
    "plt.figure()\n",
    "xvals = range(len(linear_data))\n",
    "plt.bar(xvals, linear_data, width = 0.3, color='b')\n",
    "plt.bar(xvals, exponential_data, width = 0.3, bottom=linear_data, color='r')"
   ]
  },
  {
   "cell_type": "code",
   "execution_count": null,
   "metadata": {
    "collapsed": false
   },
   "outputs": [],
   "source": [
    "# or use barh for horizontal bar charts\n",
    "plt.figure()\n",
    "xvals = range(len(linear_data))\n",
    "plt.barh(xvals, linear_data, height = 0.3, color='b')\n",
    "plt.barh(xvals, exponential_data, height = 0.3, left=linear_data, color='r')"
   ]
  }
 ],
 "metadata": {
  "kernelspec": {
   "display_name": "Python 3",
   "language": "python",
   "name": "python3"
  },
  "language_info": {
   "codemirror_mode": {
    "name": "ipython",
    "version": 3
   },
   "file_extension": ".py",
   "mimetype": "text/x-python",
   "name": "python",
   "nbconvert_exporter": "python",
   "pygments_lexer": "ipython3",
   "version": "3.8.8"
  }
 },
 "nbformat": 4,
 "nbformat_minor": 1
}
